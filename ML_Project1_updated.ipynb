{
  "nbformat": 4,
  "nbformat_minor": 0,
  "metadata": {
    "colab": {
      "name": "ML_Project1.ipynb",
      "provenance": [],
      "collapsed_sections": [],
      "toc_visible": true
    },
    "kernelspec": {
      "display_name": "Python 3",
      "language": "python",
      "name": "python3"
    },
    "language_info": {
      "codemirror_mode": {
        "name": "ipython",
        "version": 3
      },
      "file_extension": ".py",
      "mimetype": "text/x-python",
      "name": "python",
      "nbconvert_exporter": "python",
      "pygments_lexer": "ipython3",
      "version": "3.7.6"
    }
  },
  "cells": [
    {
      "cell_type": "markdown",
      "metadata": {
        "colab_type": "text",
        "id": "Wmvuy3lB-49G"
      },
      "source": [
        "#**Bank Marketing Prediction**"
      ]
    },
    {
      "cell_type": "code",
      "metadata": {
        "colab_type": "code",
        "id": "xVaRCGnH4ubl",
        "colab": {
          "base_uri": "https://localhost:8080/",
          "height": 71
        },
        "outputId": "3db7b433-6007-428e-b4ce-717cd993585a"
      },
      "source": [
        "import pandas as pd\n",
        "import numpy as np\n",
        "from numpy import array\n",
        "import matplotlib.pyplot as plt\n",
        "import seaborn as sns \n",
        "from datetime import datetime"
      ],
      "execution_count": 1,
      "outputs": [
        {
          "output_type": "stream",
          "text": [
            "/usr/local/lib/python3.6/dist-packages/statsmodels/tools/_testing.py:19: FutureWarning: pandas.util.testing is deprecated. Use the functions in the public API at pandas.testing instead.\n",
            "  import pandas.util.testing as tm\n"
          ],
          "name": "stderr"
        }
      ]
    },
    {
      "cell_type": "markdown",
      "metadata": {
        "colab_type": "text",
        "id": "M6mSgKK5_RPC"
      },
      "source": [
        "##Exploring Bank Marketing Dataset"
      ]
    },
    {
      "cell_type": "code",
      "metadata": {
        "colab_type": "code",
        "id": "lXSs8YxZ5rCC",
        "colab": {}
      },
      "source": [
        "df = pd.read_csv(\"bank-marketing.csv\")"
      ],
      "execution_count": 2,
      "outputs": []
    },
    {
      "cell_type": "code",
      "metadata": {
        "colab_type": "code",
        "id": "PFOOQOLtpdXg",
        "colab": {
          "base_uri": "https://localhost:8080/",
          "height": 34
        },
        "outputId": "354ab012-b7ca-43e1-a80b-0b88c2153d85"
      },
      "source": [
        "df.shape"
      ],
      "execution_count": 3,
      "outputs": [
        {
          "output_type": "execute_result",
          "data": {
            "text/plain": [
              "(45211, 19)"
            ]
          },
          "metadata": {
            "tags": []
          },
          "execution_count": 3
        }
      ]
    },
    {
      "cell_type": "code",
      "metadata": {
        "colab_type": "code",
        "id": "WyHFQAl99NRA",
        "colab": {
          "base_uri": "https://localhost:8080/",
          "height": 85
        },
        "outputId": "fffcf8c4-03fd-4495-8e21-8fd60098b46d"
      },
      "source": [
        "df.columns"
      ],
      "execution_count": 4,
      "outputs": [
        {
          "output_type": "execute_result",
          "data": {
            "text/plain": [
              "Index(['age', 'job', 'salary', 'marital', 'education', 'targeted', 'default',\n",
              "       'balance', 'housing', 'loan', 'contact', 'day', 'month', 'duration',\n",
              "       'campaign', 'pdays', 'previous', 'poutcome', 'response'],\n",
              "      dtype='object')"
            ]
          },
          "metadata": {
            "tags": []
          },
          "execution_count": 4
        }
      ]
    },
    {
      "cell_type": "code",
      "metadata": {
        "colab_type": "code",
        "id": "oUwUCYr-6vZh",
        "colab": {
          "base_uri": "https://localhost:8080/",
          "height": 224
        },
        "outputId": "f4a9f03a-e81c-4445-da35-0b13d5b9e7e0"
      },
      "source": [
        "df.head()"
      ],
      "execution_count": 5,
      "outputs": [
        {
          "output_type": "execute_result",
          "data": {
            "text/html": [
              "<div>\n",
              "<style scoped>\n",
              "    .dataframe tbody tr th:only-of-type {\n",
              "        vertical-align: middle;\n",
              "    }\n",
              "\n",
              "    .dataframe tbody tr th {\n",
              "        vertical-align: top;\n",
              "    }\n",
              "\n",
              "    .dataframe thead th {\n",
              "        text-align: right;\n",
              "    }\n",
              "</style>\n",
              "<table border=\"1\" class=\"dataframe\">\n",
              "  <thead>\n",
              "    <tr style=\"text-align: right;\">\n",
              "      <th></th>\n",
              "      <th>age</th>\n",
              "      <th>job</th>\n",
              "      <th>salary</th>\n",
              "      <th>marital</th>\n",
              "      <th>education</th>\n",
              "      <th>targeted</th>\n",
              "      <th>default</th>\n",
              "      <th>balance</th>\n",
              "      <th>housing</th>\n",
              "      <th>loan</th>\n",
              "      <th>contact</th>\n",
              "      <th>day</th>\n",
              "      <th>month</th>\n",
              "      <th>duration</th>\n",
              "      <th>campaign</th>\n",
              "      <th>pdays</th>\n",
              "      <th>previous</th>\n",
              "      <th>poutcome</th>\n",
              "      <th>response</th>\n",
              "    </tr>\n",
              "  </thead>\n",
              "  <tbody>\n",
              "    <tr>\n",
              "      <th>0</th>\n",
              "      <td>58</td>\n",
              "      <td>management</td>\n",
              "      <td>100000</td>\n",
              "      <td>married</td>\n",
              "      <td>tertiary</td>\n",
              "      <td>yes</td>\n",
              "      <td>no</td>\n",
              "      <td>2143</td>\n",
              "      <td>yes</td>\n",
              "      <td>no</td>\n",
              "      <td>unknown</td>\n",
              "      <td>5</td>\n",
              "      <td>may</td>\n",
              "      <td>261</td>\n",
              "      <td>1</td>\n",
              "      <td>-1</td>\n",
              "      <td>0</td>\n",
              "      <td>unknown</td>\n",
              "      <td>no</td>\n",
              "    </tr>\n",
              "    <tr>\n",
              "      <th>1</th>\n",
              "      <td>44</td>\n",
              "      <td>technician</td>\n",
              "      <td>60000</td>\n",
              "      <td>single</td>\n",
              "      <td>secondary</td>\n",
              "      <td>yes</td>\n",
              "      <td>no</td>\n",
              "      <td>29</td>\n",
              "      <td>yes</td>\n",
              "      <td>no</td>\n",
              "      <td>unknown</td>\n",
              "      <td>5</td>\n",
              "      <td>may</td>\n",
              "      <td>151</td>\n",
              "      <td>1</td>\n",
              "      <td>-1</td>\n",
              "      <td>0</td>\n",
              "      <td>unknown</td>\n",
              "      <td>no</td>\n",
              "    </tr>\n",
              "    <tr>\n",
              "      <th>2</th>\n",
              "      <td>33</td>\n",
              "      <td>entrepreneur</td>\n",
              "      <td>120000</td>\n",
              "      <td>married</td>\n",
              "      <td>secondary</td>\n",
              "      <td>yes</td>\n",
              "      <td>no</td>\n",
              "      <td>2</td>\n",
              "      <td>yes</td>\n",
              "      <td>yes</td>\n",
              "      <td>unknown</td>\n",
              "      <td>5</td>\n",
              "      <td>may</td>\n",
              "      <td>76</td>\n",
              "      <td>1</td>\n",
              "      <td>-1</td>\n",
              "      <td>0</td>\n",
              "      <td>unknown</td>\n",
              "      <td>no</td>\n",
              "    </tr>\n",
              "    <tr>\n",
              "      <th>3</th>\n",
              "      <td>47</td>\n",
              "      <td>blue-collar</td>\n",
              "      <td>20000</td>\n",
              "      <td>married</td>\n",
              "      <td>unknown</td>\n",
              "      <td>no</td>\n",
              "      <td>no</td>\n",
              "      <td>1506</td>\n",
              "      <td>yes</td>\n",
              "      <td>no</td>\n",
              "      <td>unknown</td>\n",
              "      <td>5</td>\n",
              "      <td>may</td>\n",
              "      <td>92</td>\n",
              "      <td>1</td>\n",
              "      <td>-1</td>\n",
              "      <td>0</td>\n",
              "      <td>unknown</td>\n",
              "      <td>no</td>\n",
              "    </tr>\n",
              "    <tr>\n",
              "      <th>4</th>\n",
              "      <td>33</td>\n",
              "      <td>unknown</td>\n",
              "      <td>0</td>\n",
              "      <td>single</td>\n",
              "      <td>unknown</td>\n",
              "      <td>no</td>\n",
              "      <td>no</td>\n",
              "      <td>1</td>\n",
              "      <td>no</td>\n",
              "      <td>no</td>\n",
              "      <td>unknown</td>\n",
              "      <td>5</td>\n",
              "      <td>may</td>\n",
              "      <td>198</td>\n",
              "      <td>1</td>\n",
              "      <td>-1</td>\n",
              "      <td>0</td>\n",
              "      <td>unknown</td>\n",
              "      <td>no</td>\n",
              "    </tr>\n",
              "  </tbody>\n",
              "</table>\n",
              "</div>"
            ],
            "text/plain": [
              "   age           job  salary  marital  ... pdays previous poutcome  response\n",
              "0   58    management  100000  married  ...    -1        0  unknown        no\n",
              "1   44    technician   60000   single  ...    -1        0  unknown        no\n",
              "2   33  entrepreneur  120000  married  ...    -1        0  unknown        no\n",
              "3   47   blue-collar   20000  married  ...    -1        0  unknown        no\n",
              "4   33       unknown       0   single  ...    -1        0  unknown        no\n",
              "\n",
              "[5 rows x 19 columns]"
            ]
          },
          "metadata": {
            "tags": []
          },
          "execution_count": 5
        }
      ]
    },
    {
      "cell_type": "code",
      "metadata": {
        "colab_type": "code",
        "id": "TTOu0wda76Ty",
        "colab": {
          "base_uri": "https://localhost:8080/",
          "height": 459
        },
        "outputId": "88407879-7962-4a07-d24f-9d89a6fe61e0"
      },
      "source": [
        "df.info()"
      ],
      "execution_count": 6,
      "outputs": [
        {
          "output_type": "stream",
          "text": [
            "<class 'pandas.core.frame.DataFrame'>\n",
            "RangeIndex: 45211 entries, 0 to 45210\n",
            "Data columns (total 19 columns):\n",
            " #   Column     Non-Null Count  Dtype \n",
            "---  ------     --------------  ----- \n",
            " 0   age        45211 non-null  int64 \n",
            " 1   job        45211 non-null  object\n",
            " 2   salary     45211 non-null  int64 \n",
            " 3   marital    45211 non-null  object\n",
            " 4   education  45211 non-null  object\n",
            " 5   targeted   45211 non-null  object\n",
            " 6   default    45211 non-null  object\n",
            " 7   balance    45211 non-null  int64 \n",
            " 8   housing    45211 non-null  object\n",
            " 9   loan       45211 non-null  object\n",
            " 10  contact    45211 non-null  object\n",
            " 11  day        45211 non-null  int64 \n",
            " 12  month      45211 non-null  object\n",
            " 13  duration   45211 non-null  int64 \n",
            " 14  campaign   45211 non-null  int64 \n",
            " 15  pdays      45211 non-null  int64 \n",
            " 16  previous   45211 non-null  int64 \n",
            " 17  poutcome   45211 non-null  object\n",
            " 18  response   45211 non-null  object\n",
            "dtypes: int64(8), object(11)\n",
            "memory usage: 6.6+ MB\n"
          ],
          "name": "stdout"
        }
      ]
    },
    {
      "cell_type": "code",
      "metadata": {
        "colab_type": "code",
        "id": "N_00qBoR8MPl",
        "colab": {
          "base_uri": "https://localhost:8080/",
          "height": 297
        },
        "outputId": "18eed56b-082c-4230-baf5-e5c734677fa5"
      },
      "source": [
        "df.describe()"
      ],
      "execution_count": 7,
      "outputs": [
        {
          "output_type": "execute_result",
          "data": {
            "text/html": [
              "<div>\n",
              "<style scoped>\n",
              "    .dataframe tbody tr th:only-of-type {\n",
              "        vertical-align: middle;\n",
              "    }\n",
              "\n",
              "    .dataframe tbody tr th {\n",
              "        vertical-align: top;\n",
              "    }\n",
              "\n",
              "    .dataframe thead th {\n",
              "        text-align: right;\n",
              "    }\n",
              "</style>\n",
              "<table border=\"1\" class=\"dataframe\">\n",
              "  <thead>\n",
              "    <tr style=\"text-align: right;\">\n",
              "      <th></th>\n",
              "      <th>age</th>\n",
              "      <th>salary</th>\n",
              "      <th>balance</th>\n",
              "      <th>day</th>\n",
              "      <th>duration</th>\n",
              "      <th>campaign</th>\n",
              "      <th>pdays</th>\n",
              "      <th>previous</th>\n",
              "    </tr>\n",
              "  </thead>\n",
              "  <tbody>\n",
              "    <tr>\n",
              "      <th>count</th>\n",
              "      <td>45211.000000</td>\n",
              "      <td>45211.000000</td>\n",
              "      <td>45211.000000</td>\n",
              "      <td>45211.000000</td>\n",
              "      <td>45211.000000</td>\n",
              "      <td>45211.000000</td>\n",
              "      <td>45211.000000</td>\n",
              "      <td>45211.000000</td>\n",
              "    </tr>\n",
              "    <tr>\n",
              "      <th>mean</th>\n",
              "      <td>40.936210</td>\n",
              "      <td>57006.171065</td>\n",
              "      <td>1362.272058</td>\n",
              "      <td>15.806419</td>\n",
              "      <td>258.163080</td>\n",
              "      <td>2.763841</td>\n",
              "      <td>40.197828</td>\n",
              "      <td>0.580323</td>\n",
              "    </tr>\n",
              "    <tr>\n",
              "      <th>std</th>\n",
              "      <td>10.618762</td>\n",
              "      <td>32085.718415</td>\n",
              "      <td>3044.765829</td>\n",
              "      <td>8.322476</td>\n",
              "      <td>257.527812</td>\n",
              "      <td>3.098021</td>\n",
              "      <td>100.128746</td>\n",
              "      <td>2.303441</td>\n",
              "    </tr>\n",
              "    <tr>\n",
              "      <th>min</th>\n",
              "      <td>18.000000</td>\n",
              "      <td>0.000000</td>\n",
              "      <td>-8019.000000</td>\n",
              "      <td>1.000000</td>\n",
              "      <td>0.000000</td>\n",
              "      <td>1.000000</td>\n",
              "      <td>-1.000000</td>\n",
              "      <td>0.000000</td>\n",
              "    </tr>\n",
              "    <tr>\n",
              "      <th>25%</th>\n",
              "      <td>33.000000</td>\n",
              "      <td>20000.000000</td>\n",
              "      <td>72.000000</td>\n",
              "      <td>8.000000</td>\n",
              "      <td>103.000000</td>\n",
              "      <td>1.000000</td>\n",
              "      <td>-1.000000</td>\n",
              "      <td>0.000000</td>\n",
              "    </tr>\n",
              "    <tr>\n",
              "      <th>50%</th>\n",
              "      <td>39.000000</td>\n",
              "      <td>60000.000000</td>\n",
              "      <td>448.000000</td>\n",
              "      <td>16.000000</td>\n",
              "      <td>180.000000</td>\n",
              "      <td>2.000000</td>\n",
              "      <td>-1.000000</td>\n",
              "      <td>0.000000</td>\n",
              "    </tr>\n",
              "    <tr>\n",
              "      <th>75%</th>\n",
              "      <td>48.000000</td>\n",
              "      <td>70000.000000</td>\n",
              "      <td>1428.000000</td>\n",
              "      <td>21.000000</td>\n",
              "      <td>319.000000</td>\n",
              "      <td>3.000000</td>\n",
              "      <td>-1.000000</td>\n",
              "      <td>0.000000</td>\n",
              "    </tr>\n",
              "    <tr>\n",
              "      <th>max</th>\n",
              "      <td>95.000000</td>\n",
              "      <td>120000.000000</td>\n",
              "      <td>102127.000000</td>\n",
              "      <td>31.000000</td>\n",
              "      <td>4918.000000</td>\n",
              "      <td>63.000000</td>\n",
              "      <td>871.000000</td>\n",
              "      <td>275.000000</td>\n",
              "    </tr>\n",
              "  </tbody>\n",
              "</table>\n",
              "</div>"
            ],
            "text/plain": [
              "                age         salary  ...         pdays      previous\n",
              "count  45211.000000   45211.000000  ...  45211.000000  45211.000000\n",
              "mean      40.936210   57006.171065  ...     40.197828      0.580323\n",
              "std       10.618762   32085.718415  ...    100.128746      2.303441\n",
              "min       18.000000       0.000000  ...     -1.000000      0.000000\n",
              "25%       33.000000   20000.000000  ...     -1.000000      0.000000\n",
              "50%       39.000000   60000.000000  ...     -1.000000      0.000000\n",
              "75%       48.000000   70000.000000  ...     -1.000000      0.000000\n",
              "max       95.000000  120000.000000  ...    871.000000    275.000000\n",
              "\n",
              "[8 rows x 8 columns]"
            ]
          },
          "metadata": {
            "tags": []
          },
          "execution_count": 7
        }
      ]
    },
    {
      "cell_type": "code",
      "metadata": {
        "colab_type": "code",
        "id": "wN5n71ci8oUB",
        "colab": {
          "base_uri": "https://localhost:8080/",
          "height": 357
        },
        "outputId": "b7ba06da-ef22-43e9-d2d3-d8f13de8a12b"
      },
      "source": [
        "df.isnull().sum()"
      ],
      "execution_count": 8,
      "outputs": [
        {
          "output_type": "execute_result",
          "data": {
            "text/plain": [
              "age          0\n",
              "job          0\n",
              "salary       0\n",
              "marital      0\n",
              "education    0\n",
              "targeted     0\n",
              "default      0\n",
              "balance      0\n",
              "housing      0\n",
              "loan         0\n",
              "contact      0\n",
              "day          0\n",
              "month        0\n",
              "duration     0\n",
              "campaign     0\n",
              "pdays        0\n",
              "previous     0\n",
              "poutcome     0\n",
              "response     0\n",
              "dtype: int64"
            ]
          },
          "metadata": {
            "tags": []
          },
          "execution_count": 8
        }
      ]
    },
    {
      "cell_type": "code",
      "metadata": {
        "colab_type": "code",
        "id": "05N8gQP_87ig",
        "colab": {
          "base_uri": "https://localhost:8080/",
          "height": 357
        },
        "outputId": "7294f72e-1600-452d-9866-0c46261491a1"
      },
      "source": [
        "dups = df.duplicated()\n",
        "df[dups].sum()"
      ],
      "execution_count": 9,
      "outputs": [
        {
          "output_type": "execute_result",
          "data": {
            "text/plain": [
              "age          0.0\n",
              "job          0.0\n",
              "salary       0.0\n",
              "marital      0.0\n",
              "education    0.0\n",
              "targeted     0.0\n",
              "default      0.0\n",
              "balance      0.0\n",
              "housing      0.0\n",
              "loan         0.0\n",
              "contact      0.0\n",
              "day          0.0\n",
              "month        0.0\n",
              "duration     0.0\n",
              "campaign     0.0\n",
              "pdays        0.0\n",
              "previous     0.0\n",
              "poutcome     0.0\n",
              "response     0.0\n",
              "dtype: float64"
            ]
          },
          "metadata": {
            "tags": []
          },
          "execution_count": 9
        }
      ]
    },
    {
      "cell_type": "markdown",
      "metadata": {
        "colab_type": "text",
        "id": "KcVg2fwGAAEe"
      },
      "source": [
        "###Exploring Columns"
      ]
    },
    {
      "cell_type": "code",
      "metadata": {
        "colab_type": "code",
        "id": "mYJauWOM9mEU",
        "colab": {
          "base_uri": "https://localhost:8080/",
          "height": 238
        },
        "outputId": "e7d48ac4-6d43-4c79-c3cb-1e29a6b8dad3"
      },
      "source": [
        "df['job'].value_counts()"
      ],
      "execution_count": 10,
      "outputs": [
        {
          "output_type": "execute_result",
          "data": {
            "text/plain": [
              "blue-collar      9732\n",
              "management       9458\n",
              "technician       7597\n",
              "admin.           5171\n",
              "services         4154\n",
              "retired          2264\n",
              "self-employed    1579\n",
              "entrepreneur     1487\n",
              "unemployed       1303\n",
              "housemaid        1240\n",
              "student           938\n",
              "unknown           288\n",
              "Name: job, dtype: int64"
            ]
          },
          "metadata": {
            "tags": []
          },
          "execution_count": 10
        }
      ]
    },
    {
      "cell_type": "code",
      "metadata": {
        "colab_type": "code",
        "id": "Cx0zAwRT93DL",
        "colab": {
          "base_uri": "https://localhost:8080/",
          "height": 85
        },
        "outputId": "35a6c853-439d-4910-9af7-ad5744064c8a"
      },
      "source": [
        "df['marital'].value_counts()"
      ],
      "execution_count": 11,
      "outputs": [
        {
          "output_type": "execute_result",
          "data": {
            "text/plain": [
              "married     27214\n",
              "single      12790\n",
              "divorced     5207\n",
              "Name: marital, dtype: int64"
            ]
          },
          "metadata": {
            "tags": []
          },
          "execution_count": 11
        }
      ]
    },
    {
      "cell_type": "code",
      "metadata": {
        "colab_type": "code",
        "id": "G_n5YlAc9-BB",
        "colab": {
          "base_uri": "https://localhost:8080/",
          "height": 102
        },
        "outputId": "1665fbaf-eb55-443a-f946-4b28e8979483"
      },
      "source": [
        "df['education'].value_counts()"
      ],
      "execution_count": 12,
      "outputs": [
        {
          "output_type": "execute_result",
          "data": {
            "text/plain": [
              "secondary    23202\n",
              "tertiary     13301\n",
              "primary       6851\n",
              "unknown       1857\n",
              "Name: education, dtype: int64"
            ]
          },
          "metadata": {
            "tags": []
          },
          "execution_count": 12
        }
      ]
    },
    {
      "cell_type": "code",
      "metadata": {
        "colab_type": "code",
        "id": "cpjPsJeJ-Cq5",
        "colab": {
          "base_uri": "https://localhost:8080/",
          "height": 68
        },
        "outputId": "feb83c52-54c9-457d-dd6c-ce8cb4d6b0c6"
      },
      "source": [
        "df['targeted'].value_counts()"
      ],
      "execution_count": 13,
      "outputs": [
        {
          "output_type": "execute_result",
          "data": {
            "text/plain": [
              "yes    37091\n",
              "no      8120\n",
              "Name: targeted, dtype: int64"
            ]
          },
          "metadata": {
            "tags": []
          },
          "execution_count": 13
        }
      ]
    },
    {
      "cell_type": "code",
      "metadata": {
        "colab_type": "code",
        "id": "hiP30y0J-CnQ",
        "colab": {
          "base_uri": "https://localhost:8080/",
          "height": 68
        },
        "outputId": "3de63f3a-94d7-4a69-8a42-c8c9ca7c625b"
      },
      "source": [
        "df['default'].value_counts()"
      ],
      "execution_count": 14,
      "outputs": [
        {
          "output_type": "execute_result",
          "data": {
            "text/plain": [
              "no     44396\n",
              "yes      815\n",
              "Name: default, dtype: int64"
            ]
          },
          "metadata": {
            "tags": []
          },
          "execution_count": 14
        }
      ]
    },
    {
      "cell_type": "code",
      "metadata": {
        "colab_type": "code",
        "id": "GUFTOGYy-CHj",
        "colab": {
          "base_uri": "https://localhost:8080/",
          "height": 68
        },
        "outputId": "6209c560-b93d-4091-928a-c832e017ffa0"
      },
      "source": [
        "df['housing'].value_counts()"
      ],
      "execution_count": 15,
      "outputs": [
        {
          "output_type": "execute_result",
          "data": {
            "text/plain": [
              "yes    25130\n",
              "no     20081\n",
              "Name: housing, dtype: int64"
            ]
          },
          "metadata": {
            "tags": []
          },
          "execution_count": 15
        }
      ]
    },
    {
      "cell_type": "code",
      "metadata": {
        "colab_type": "code",
        "id": "MqcpbiCL-MtC",
        "colab": {
          "base_uri": "https://localhost:8080/",
          "height": 68
        },
        "outputId": "d58c5dfa-fae3-4336-f56c-ead198eae084"
      },
      "source": [
        "df['loan'].value_counts()"
      ],
      "execution_count": 16,
      "outputs": [
        {
          "output_type": "execute_result",
          "data": {
            "text/plain": [
              "no     37967\n",
              "yes     7244\n",
              "Name: loan, dtype: int64"
            ]
          },
          "metadata": {
            "tags": []
          },
          "execution_count": 16
        }
      ]
    },
    {
      "cell_type": "code",
      "metadata": {
        "colab_type": "code",
        "id": "xI2t-NOZ-PPQ",
        "colab": {
          "base_uri": "https://localhost:8080/",
          "height": 85
        },
        "outputId": "cae6fbc6-ba91-4313-ebc5-cf75f0809859"
      },
      "source": [
        "df['contact'].value_counts()"
      ],
      "execution_count": 17,
      "outputs": [
        {
          "output_type": "execute_result",
          "data": {
            "text/plain": [
              "cellular     29285\n",
              "unknown      13020\n",
              "telephone     2906\n",
              "Name: contact, dtype: int64"
            ]
          },
          "metadata": {
            "tags": []
          },
          "execution_count": 17
        }
      ]
    },
    {
      "cell_type": "code",
      "metadata": {
        "colab_type": "code",
        "id": "1F_6TeaS-gTM",
        "colab": {
          "base_uri": "https://localhost:8080/",
          "height": 238
        },
        "outputId": "b43d8796-94bd-4180-8f4f-848db505ec29"
      },
      "source": [
        "df['month'].value_counts()"
      ],
      "execution_count": 18,
      "outputs": [
        {
          "output_type": "execute_result",
          "data": {
            "text/plain": [
              "may    13766\n",
              "jul     6895\n",
              "aug     6247\n",
              "jun     5341\n",
              "nov     3970\n",
              "apr     2932\n",
              "feb     2649\n",
              "jan     1403\n",
              "oct      738\n",
              "sep      579\n",
              "mar      477\n",
              "dec      214\n",
              "Name: month, dtype: int64"
            ]
          },
          "metadata": {
            "tags": []
          },
          "execution_count": 18
        }
      ]
    },
    {
      "cell_type": "code",
      "metadata": {
        "colab_type": "code",
        "id": "hNfZXvWa-gD7",
        "colab": {
          "base_uri": "https://localhost:8080/",
          "height": 102
        },
        "outputId": "720ce2e1-4735-406b-8e23-825b0f6a125d"
      },
      "source": [
        "df['poutcome'].value_counts()"
      ],
      "execution_count": 19,
      "outputs": [
        {
          "output_type": "execute_result",
          "data": {
            "text/plain": [
              "unknown    36959\n",
              "failure     4901\n",
              "other       1840\n",
              "success     1511\n",
              "Name: poutcome, dtype: int64"
            ]
          },
          "metadata": {
            "tags": []
          },
          "execution_count": 19
        }
      ]
    },
    {
      "cell_type": "code",
      "metadata": {
        "colab_type": "code",
        "id": "wwAerEvK-fpU",
        "colab": {
          "base_uri": "https://localhost:8080/",
          "height": 68
        },
        "outputId": "b242f824-6126-43e4-83eb-f8d1ebce5b0e"
      },
      "source": [
        "df['response'].value_counts()"
      ],
      "execution_count": 20,
      "outputs": [
        {
          "output_type": "execute_result",
          "data": {
            "text/plain": [
              "no     39922\n",
              "yes     5289\n",
              "Name: response, dtype: int64"
            ]
          },
          "metadata": {
            "tags": []
          },
          "execution_count": 20
        }
      ]
    },
    {
      "cell_type": "code",
      "metadata": {
        "colab_type": "code",
        "id": "OW3Un0SLSuB7",
        "colab": {
          "base_uri": "https://localhost:8080/",
          "height": 221
        },
        "outputId": "8746d100-45eb-4753-9c10-ae52524401a8"
      },
      "source": [
        "df['pdays'].value_counts()"
      ],
      "execution_count": 21,
      "outputs": [
        {
          "output_type": "execute_result",
          "data": {
            "text/plain": [
              "-1      36954\n",
              " 182      167\n",
              " 92       147\n",
              " 183      126\n",
              " 91       126\n",
              "        ...  \n",
              " 749        1\n",
              " 717        1\n",
              " 589        1\n",
              " 493        1\n",
              " 32         1\n",
              "Name: pdays, Length: 559, dtype: int64"
            ]
          },
          "metadata": {
            "tags": []
          },
          "execution_count": 21
        }
      ]
    },
    {
      "cell_type": "markdown",
      "metadata": {
        "colab_type": "text",
        "id": "nJDOUPF6ASNy"
      },
      "source": [
        "- Describe the pdays column, make note of the mean, median and minimum values. Anything\n",
        "fishy in the values?"
      ]
    },
    {
      "cell_type": "code",
      "metadata": {
        "colab_type": "code",
        "id": "OUg1yhpIGYIZ",
        "colab": {
          "base_uri": "https://localhost:8080/",
          "height": 439
        },
        "outputId": "90d5ac6b-e9e1-4cd6-84d7-502b368952dc"
      },
      "source": [
        "df.drop(['contact'], axis = 1)"
      ],
      "execution_count": 22,
      "outputs": [
        {
          "output_type": "execute_result",
          "data": {
            "text/html": [
              "<div>\n",
              "<style scoped>\n",
              "    .dataframe tbody tr th:only-of-type {\n",
              "        vertical-align: middle;\n",
              "    }\n",
              "\n",
              "    .dataframe tbody tr th {\n",
              "        vertical-align: top;\n",
              "    }\n",
              "\n",
              "    .dataframe thead th {\n",
              "        text-align: right;\n",
              "    }\n",
              "</style>\n",
              "<table border=\"1\" class=\"dataframe\">\n",
              "  <thead>\n",
              "    <tr style=\"text-align: right;\">\n",
              "      <th></th>\n",
              "      <th>age</th>\n",
              "      <th>job</th>\n",
              "      <th>salary</th>\n",
              "      <th>marital</th>\n",
              "      <th>education</th>\n",
              "      <th>targeted</th>\n",
              "      <th>default</th>\n",
              "      <th>balance</th>\n",
              "      <th>housing</th>\n",
              "      <th>loan</th>\n",
              "      <th>day</th>\n",
              "      <th>month</th>\n",
              "      <th>duration</th>\n",
              "      <th>campaign</th>\n",
              "      <th>pdays</th>\n",
              "      <th>previous</th>\n",
              "      <th>poutcome</th>\n",
              "      <th>response</th>\n",
              "    </tr>\n",
              "  </thead>\n",
              "  <tbody>\n",
              "    <tr>\n",
              "      <th>0</th>\n",
              "      <td>58</td>\n",
              "      <td>management</td>\n",
              "      <td>100000</td>\n",
              "      <td>married</td>\n",
              "      <td>tertiary</td>\n",
              "      <td>yes</td>\n",
              "      <td>no</td>\n",
              "      <td>2143</td>\n",
              "      <td>yes</td>\n",
              "      <td>no</td>\n",
              "      <td>5</td>\n",
              "      <td>may</td>\n",
              "      <td>261</td>\n",
              "      <td>1</td>\n",
              "      <td>-1</td>\n",
              "      <td>0</td>\n",
              "      <td>unknown</td>\n",
              "      <td>no</td>\n",
              "    </tr>\n",
              "    <tr>\n",
              "      <th>1</th>\n",
              "      <td>44</td>\n",
              "      <td>technician</td>\n",
              "      <td>60000</td>\n",
              "      <td>single</td>\n",
              "      <td>secondary</td>\n",
              "      <td>yes</td>\n",
              "      <td>no</td>\n",
              "      <td>29</td>\n",
              "      <td>yes</td>\n",
              "      <td>no</td>\n",
              "      <td>5</td>\n",
              "      <td>may</td>\n",
              "      <td>151</td>\n",
              "      <td>1</td>\n",
              "      <td>-1</td>\n",
              "      <td>0</td>\n",
              "      <td>unknown</td>\n",
              "      <td>no</td>\n",
              "    </tr>\n",
              "    <tr>\n",
              "      <th>2</th>\n",
              "      <td>33</td>\n",
              "      <td>entrepreneur</td>\n",
              "      <td>120000</td>\n",
              "      <td>married</td>\n",
              "      <td>secondary</td>\n",
              "      <td>yes</td>\n",
              "      <td>no</td>\n",
              "      <td>2</td>\n",
              "      <td>yes</td>\n",
              "      <td>yes</td>\n",
              "      <td>5</td>\n",
              "      <td>may</td>\n",
              "      <td>76</td>\n",
              "      <td>1</td>\n",
              "      <td>-1</td>\n",
              "      <td>0</td>\n",
              "      <td>unknown</td>\n",
              "      <td>no</td>\n",
              "    </tr>\n",
              "    <tr>\n",
              "      <th>3</th>\n",
              "      <td>47</td>\n",
              "      <td>blue-collar</td>\n",
              "      <td>20000</td>\n",
              "      <td>married</td>\n",
              "      <td>unknown</td>\n",
              "      <td>no</td>\n",
              "      <td>no</td>\n",
              "      <td>1506</td>\n",
              "      <td>yes</td>\n",
              "      <td>no</td>\n",
              "      <td>5</td>\n",
              "      <td>may</td>\n",
              "      <td>92</td>\n",
              "      <td>1</td>\n",
              "      <td>-1</td>\n",
              "      <td>0</td>\n",
              "      <td>unknown</td>\n",
              "      <td>no</td>\n",
              "    </tr>\n",
              "    <tr>\n",
              "      <th>4</th>\n",
              "      <td>33</td>\n",
              "      <td>unknown</td>\n",
              "      <td>0</td>\n",
              "      <td>single</td>\n",
              "      <td>unknown</td>\n",
              "      <td>no</td>\n",
              "      <td>no</td>\n",
              "      <td>1</td>\n",
              "      <td>no</td>\n",
              "      <td>no</td>\n",
              "      <td>5</td>\n",
              "      <td>may</td>\n",
              "      <td>198</td>\n",
              "      <td>1</td>\n",
              "      <td>-1</td>\n",
              "      <td>0</td>\n",
              "      <td>unknown</td>\n",
              "      <td>no</td>\n",
              "    </tr>\n",
              "    <tr>\n",
              "      <th>...</th>\n",
              "      <td>...</td>\n",
              "      <td>...</td>\n",
              "      <td>...</td>\n",
              "      <td>...</td>\n",
              "      <td>...</td>\n",
              "      <td>...</td>\n",
              "      <td>...</td>\n",
              "      <td>...</td>\n",
              "      <td>...</td>\n",
              "      <td>...</td>\n",
              "      <td>...</td>\n",
              "      <td>...</td>\n",
              "      <td>...</td>\n",
              "      <td>...</td>\n",
              "      <td>...</td>\n",
              "      <td>...</td>\n",
              "      <td>...</td>\n",
              "      <td>...</td>\n",
              "    </tr>\n",
              "    <tr>\n",
              "      <th>45206</th>\n",
              "      <td>51</td>\n",
              "      <td>technician</td>\n",
              "      <td>60000</td>\n",
              "      <td>married</td>\n",
              "      <td>tertiary</td>\n",
              "      <td>yes</td>\n",
              "      <td>no</td>\n",
              "      <td>825</td>\n",
              "      <td>no</td>\n",
              "      <td>no</td>\n",
              "      <td>17</td>\n",
              "      <td>nov</td>\n",
              "      <td>977</td>\n",
              "      <td>3</td>\n",
              "      <td>-1</td>\n",
              "      <td>0</td>\n",
              "      <td>unknown</td>\n",
              "      <td>yes</td>\n",
              "    </tr>\n",
              "    <tr>\n",
              "      <th>45207</th>\n",
              "      <td>71</td>\n",
              "      <td>retired</td>\n",
              "      <td>55000</td>\n",
              "      <td>divorced</td>\n",
              "      <td>primary</td>\n",
              "      <td>yes</td>\n",
              "      <td>no</td>\n",
              "      <td>1729</td>\n",
              "      <td>no</td>\n",
              "      <td>no</td>\n",
              "      <td>17</td>\n",
              "      <td>nov</td>\n",
              "      <td>456</td>\n",
              "      <td>2</td>\n",
              "      <td>-1</td>\n",
              "      <td>0</td>\n",
              "      <td>unknown</td>\n",
              "      <td>yes</td>\n",
              "    </tr>\n",
              "    <tr>\n",
              "      <th>45208</th>\n",
              "      <td>72</td>\n",
              "      <td>retired</td>\n",
              "      <td>55000</td>\n",
              "      <td>married</td>\n",
              "      <td>secondary</td>\n",
              "      <td>yes</td>\n",
              "      <td>no</td>\n",
              "      <td>5715</td>\n",
              "      <td>no</td>\n",
              "      <td>no</td>\n",
              "      <td>17</td>\n",
              "      <td>nov</td>\n",
              "      <td>1127</td>\n",
              "      <td>5</td>\n",
              "      <td>184</td>\n",
              "      <td>3</td>\n",
              "      <td>success</td>\n",
              "      <td>yes</td>\n",
              "    </tr>\n",
              "    <tr>\n",
              "      <th>45209</th>\n",
              "      <td>57</td>\n",
              "      <td>blue-collar</td>\n",
              "      <td>20000</td>\n",
              "      <td>married</td>\n",
              "      <td>secondary</td>\n",
              "      <td>yes</td>\n",
              "      <td>no</td>\n",
              "      <td>668</td>\n",
              "      <td>no</td>\n",
              "      <td>no</td>\n",
              "      <td>17</td>\n",
              "      <td>nov</td>\n",
              "      <td>508</td>\n",
              "      <td>4</td>\n",
              "      <td>-1</td>\n",
              "      <td>0</td>\n",
              "      <td>unknown</td>\n",
              "      <td>no</td>\n",
              "    </tr>\n",
              "    <tr>\n",
              "      <th>45210</th>\n",
              "      <td>37</td>\n",
              "      <td>entrepreneur</td>\n",
              "      <td>120000</td>\n",
              "      <td>married</td>\n",
              "      <td>secondary</td>\n",
              "      <td>yes</td>\n",
              "      <td>no</td>\n",
              "      <td>2971</td>\n",
              "      <td>no</td>\n",
              "      <td>no</td>\n",
              "      <td>17</td>\n",
              "      <td>nov</td>\n",
              "      <td>361</td>\n",
              "      <td>2</td>\n",
              "      <td>188</td>\n",
              "      <td>11</td>\n",
              "      <td>other</td>\n",
              "      <td>no</td>\n",
              "    </tr>\n",
              "  </tbody>\n",
              "</table>\n",
              "<p>45211 rows × 18 columns</p>\n",
              "</div>"
            ],
            "text/plain": [
              "       age           job  salary   marital  ... pdays previous poutcome  response\n",
              "0       58    management  100000   married  ...    -1        0  unknown        no\n",
              "1       44    technician   60000    single  ...    -1        0  unknown        no\n",
              "2       33  entrepreneur  120000   married  ...    -1        0  unknown        no\n",
              "3       47   blue-collar   20000   married  ...    -1        0  unknown        no\n",
              "4       33       unknown       0    single  ...    -1        0  unknown        no\n",
              "...    ...           ...     ...       ...  ...   ...      ...      ...       ...\n",
              "45206   51    technician   60000   married  ...    -1        0  unknown       yes\n",
              "45207   71       retired   55000  divorced  ...    -1        0  unknown       yes\n",
              "45208   72       retired   55000   married  ...   184        3  success       yes\n",
              "45209   57   blue-collar   20000   married  ...    -1        0  unknown        no\n",
              "45210   37  entrepreneur  120000   married  ...   188       11    other        no\n",
              "\n",
              "[45211 rows x 18 columns]"
            ]
          },
          "metadata": {
            "tags": []
          },
          "execution_count": 22
        }
      ]
    },
    {
      "cell_type": "code",
      "metadata": {
        "colab_type": "code",
        "id": "46jEYoL_AdS8",
        "colab": {
          "base_uri": "https://localhost:8080/",
          "height": 170
        },
        "outputId": "0550d964-9e52-48d3-fd4b-50c52a1bdfa2"
      },
      "source": [
        "df['pdays'].describe()"
      ],
      "execution_count": 23,
      "outputs": [
        {
          "output_type": "execute_result",
          "data": {
            "text/plain": [
              "count    45211.000000\n",
              "mean        40.197828\n",
              "std        100.128746\n",
              "min         -1.000000\n",
              "25%         -1.000000\n",
              "50%         -1.000000\n",
              "75%         -1.000000\n",
              "max        871.000000\n",
              "Name: pdays, dtype: float64"
            ]
          },
          "metadata": {
            "tags": []
          },
          "execution_count": 23
        }
      ]
    },
    {
      "cell_type": "markdown",
      "metadata": {
        "colab_type": "text",
        "id": "WsJCenWpsjEw"
      },
      "source": [
        "Describe the pdays column, make note of the mean, median and minimum values. Anything\n",
        "fishy in the values?"
      ]
    },
    {
      "cell_type": "code",
      "metadata": {
        "colab_type": "code",
        "id": "3ZcKjuwwr7dI",
        "colab": {
          "base_uri": "https://localhost:8080/",
          "height": 170
        },
        "outputId": "8ca966e6-d5e0-4857-8699-dea2b2f3fdb8"
      },
      "source": [
        "df['pdays'].describe()"
      ],
      "execution_count": 24,
      "outputs": [
        {
          "output_type": "execute_result",
          "data": {
            "text/plain": [
              "count    45211.000000\n",
              "mean        40.197828\n",
              "std        100.128746\n",
              "min         -1.000000\n",
              "25%         -1.000000\n",
              "50%         -1.000000\n",
              "75%         -1.000000\n",
              "max        871.000000\n",
              "Name: pdays, dtype: float64"
            ]
          },
          "metadata": {
            "tags": []
          },
          "execution_count": 24
        }
      ]
    },
    {
      "cell_type": "markdown",
      "metadata": {
        "colab_type": "text",
        "id": "kIrFkhPFslRp"
      },
      "source": [
        "Here, We can see that around 75% values of pdays are -1. That does not conclude that the previous campaign was made for them or not. To get the customers who did have campaign earlier we must remove all the cases of -1."
      ]
    },
    {
      "cell_type": "markdown",
      "metadata": {
        "colab_type": "text",
        "id": "ZV2Syfafud4X"
      },
      "source": [
        "Describe the pdays column again, this time limiting yourself to the relevant values of pdays. How different are the mean and the median values?"
      ]
    },
    {
      "cell_type": "code",
      "metadata": {
        "colab_type": "code",
        "id": "uCymp8aQuh_m",
        "colab": {}
      },
      "source": [
        "df1=df.copy()"
      ],
      "execution_count": 25,
      "outputs": []
    },
    {
      "cell_type": "code",
      "metadata": {
        "colab_type": "code",
        "id": "_8ne0BlqurhV",
        "colab": {}
      },
      "source": [
        "df1.drop(df1[df1['pdays'] < 0].index, inplace = True) "
      ],
      "execution_count": 26,
      "outputs": []
    },
    {
      "cell_type": "code",
      "metadata": {
        "colab_type": "code",
        "id": "o3yyHhyDuwXJ",
        "colab": {
          "base_uri": "https://localhost:8080/",
          "height": 170
        },
        "outputId": "8690617c-e33c-4546-dab4-7207f005ac41"
      },
      "source": [
        "df1['pdays'].describe()"
      ],
      "execution_count": 27,
      "outputs": [
        {
          "output_type": "execute_result",
          "data": {
            "text/plain": [
              "count    8257.000000\n",
              "mean      224.577692\n",
              "std       115.344035\n",
              "min         1.000000\n",
              "25%       133.000000\n",
              "50%       194.000000\n",
              "75%       327.000000\n",
              "max       871.000000\n",
              "Name: pdays, dtype: float64"
            ]
          },
          "metadata": {
            "tags": []
          },
          "execution_count": 27
        }
      ]
    },
    {
      "cell_type": "markdown",
      "metadata": {
        "colab_type": "text",
        "id": "byYmdPuwu-kA"
      },
      "source": [
        "Now the numerical data looks normal as we have removed the customers who didn't have campaign earlier."
      ]
    },
    {
      "cell_type": "markdown",
      "metadata": {
        "colab_type": "text",
        "id": "5Y_d-0pFvRh9"
      },
      "source": [
        "Plot a horizontal bar graph with the median values of balance for each education level value.\n",
        "Which group has the highest median?"
      ]
    },
    {
      "cell_type": "code",
      "metadata": {
        "colab_type": "code",
        "id": "pwQLqF6svI6m",
        "colab": {
          "base_uri": "https://localhost:8080/",
          "height": 321
        },
        "outputId": "73010baa-bc5a-4ca9-fcbf-8dc27a58e5db"
      },
      "source": [
        "plt=df1.groupby(['education'])['balance'].median().plot.bar()"
      ],
      "execution_count": 28,
      "outputs": [
        {
          "output_type": "display_data",
          "data": {
            "image/png": "[encoded data removed]",
            "text/plain": [
              "<Figure size 432x288 with 1 Axes>"
            ]
          },
          "metadata": {
            "tags": [],
            "needs_background": "light"
          }
        }
      ]
    },
    {
      "cell_type": "markdown",
      "metadata": {
        "colab_type": "text",
        "id": "tYua6Be1vuOP"
      },
      "source": [
        "Here, we can see that customer with tertiary level of education has highest median value for balance."
      ]
    },
    {
      "cell_type": "code",
      "metadata": {
        "colab_type": "code",
        "id": "FjEQUgyQv-WN",
        "colab": {
          "base_uri": "https://localhost:8080/",
          "height": 282
        },
        "outputId": "d47166c8-94c4-4696-806e-d36586f0ebb2"
      },
      "source": [
        "df1.boxplot('pdays')"
      ],
      "execution_count": 29,
      "outputs": [
        {
          "output_type": "execute_result",
          "data": {
            "text/plain": [
              "<matplotlib.axes._subplots.AxesSubplot at 0x7fa811efd400>"
            ]
          },
          "metadata": {
            "tags": []
          },
          "execution_count": 29
        },
        {
          "output_type": "display_data",
          "data": {
            "image/png": "[encoded data removed]",
            "text/plain": [
              "<Figure size 432x288 with 1 Axes>"
            ]
          },
          "metadata": {
            "tags": [],
            "needs_background": "light"
          }
        }
      ]
    },
    {
      "cell_type": "markdown",
      "metadata": {
        "colab_type": "text",
        "id": "_dQxYCbAwb2u"
      },
      "source": [
        "Here, we can see that there are some outliers present in the pdays. "
      ]
    },
    {
      "cell_type": "markdown",
      "metadata": {
        "colab_type": "text",
        "id": "lYNxThgswuiA"
      },
      "source": [
        "##Exploring Target Variable."
      ]
    },
    {
      "cell_type": "markdown",
      "metadata": {
        "colab_type": "text",
        "id": "SdiHp1dxyNx4"
      },
      "source": [
        "The final goal is to make a predictive model to predict if the customer will respond positively to the\n",
        "campaign or not. The target variable is “response”"
      ]
    },
    {
      "cell_type": "markdown",
      "metadata": {
        "colab_type": "text",
        "id": "tRDC05JRyPnl"
      },
      "source": [
        " Bi-variate analysis"
      ]
    },
    {
      "cell_type": "code",
      "metadata": {
        "colab_type": "code",
        "id": "OhIgIAYLwT_p",
        "colab": {
          "base_uri": "https://localhost:8080/",
          "height": 102
        },
        "outputId": "5a110546-3814-4c15-e308-cf3735c641e3"
      },
      "source": [
        "df1['response'].describe()"
      ],
      "execution_count": 30,
      "outputs": [
        {
          "output_type": "execute_result",
          "data": {
            "text/plain": [
              "count     8257\n",
              "unique       2\n",
              "top         no\n",
              "freq      6352\n",
              "Name: response, dtype: object"
            ]
          },
          "metadata": {
            "tags": []
          },
          "execution_count": 30
        }
      ]
    },
    {
      "cell_type": "code",
      "metadata": {
        "colab_type": "code",
        "id": "d6DqTxZYwgDj",
        "colab": {
          "base_uri": "https://localhost:8080/",
          "height": 68
        },
        "outputId": "73bf042d-2b48-40f1-c841-a46f22201f0a"
      },
      "source": [
        "df1.response.value_counts()"
      ],
      "execution_count": 31,
      "outputs": [
        {
          "output_type": "execute_result",
          "data": {
            "text/plain": [
              "no     6352\n",
              "yes    1905\n",
              "Name: response, dtype: int64"
            ]
          },
          "metadata": {
            "tags": []
          },
          "execution_count": 31
        }
      ]
    },
    {
      "cell_type": "markdown",
      "metadata": {
        "colab_type": "text",
        "id": "gJj7fyuYyF2M"
      },
      "source": [
        "Convert the response variable to a convenient form"
      ]
    },
    {
      "cell_type": "code",
      "metadata": {
        "colab_type": "code",
        "id": "elREaLY9xZZO",
        "colab": {}
      },
      "source": [
        "df1.replace({'response': {\"yes\": 1,'no':0}},inplace=True)"
      ],
      "execution_count": 32,
      "outputs": []
    },
    {
      "cell_type": "code",
      "metadata": {
        "colab_type": "code",
        "id": "GB_Wwy-5x9dl",
        "colab": {
          "base_uri": "https://localhost:8080/",
          "height": 68
        },
        "outputId": "b8d6f853-6ec3-4855-d70b-681d6adc2716"
      },
      "source": [
        "df1.response.value_counts()"
      ],
      "execution_count": 33,
      "outputs": [
        {
          "output_type": "execute_result",
          "data": {
            "text/plain": [
              "0    6352\n",
              "1    1905\n",
              "Name: response, dtype: int64"
            ]
          },
          "metadata": {
            "tags": []
          },
          "execution_count": 33
        }
      ]
    },
    {
      "cell_type": "markdown",
      "metadata": {
        "colab_type": "text",
        "id": "h_PX0_0wyewY"
      },
      "source": [
        "Make suitable plots for associations with numerical features and categorical features"
      ]
    },
    {
      "cell_type": "code",
      "metadata": {
        "colab_type": "code",
        "id": "KRUmGds1ygTz",
        "colab": {}
      },
      "source": [
        "obj = []\n",
        "num = []\n",
        "for col in df1.columns:\n",
        "    if df1[col].dtype=='O':\n",
        "        obj.append(col)\n",
        "    else:\n",
        "        num.append(col)"
      ],
      "execution_count": 34,
      "outputs": []
    },
    {
      "cell_type": "code",
      "metadata": {
        "colab_type": "code",
        "id": "Nk2Zx234yyVr",
        "colab": {
          "base_uri": "https://localhost:8080/",
          "height": 71
        },
        "outputId": "a0055496-769a-469b-a099-64156eb3f837"
      },
      "source": [
        "print(\"Object data type features \",obj)\n",
        "print(\"Numerical data type features \",num)"
      ],
      "execution_count": 35,
      "outputs": [
        {
          "output_type": "stream",
          "text": [
            "Object data type features  ['job', 'marital', 'education', 'targeted', 'default', 'housing', 'loan', 'contact', 'month', 'poutcome']\n",
            "Numerical data type features  ['age', 'salary', 'balance', 'day', 'duration', 'campaign', 'pdays', 'previous', 'response']\n"
          ],
          "name": "stdout"
        }
      ]
    },
    {
      "cell_type": "markdown",
      "metadata": {
        "colab_type": "text",
        "id": "hJjlEHiUy-pB"
      },
      "source": [
        "Make suitable plots for associations with numerical features and categorical features’\n"
      ]
    },
    {
      "cell_type": "code",
      "metadata": {
        "colab_type": "code",
        "id": "l7S3WvrFzpxx",
        "colab": {
          "base_uri": "https://localhost:8080/",
          "height": 328
        },
        "outputId": "d7a0bfdc-3e31-4a3e-863f-045ec1a75931"
      },
      "source": [
        "df1.corr()"
      ],
      "execution_count": 36,
      "outputs": [
        {
          "output_type": "execute_result",
          "data": {
            "text/html": [
              "<div>\n",
              "<style scoped>\n",
              "    .dataframe tbody tr th:only-of-type {\n",
              "        vertical-align: middle;\n",
              "    }\n",
              "\n",
              "    .dataframe tbody tr th {\n",
              "        vertical-align: top;\n",
              "    }\n",
              "\n",
              "    .dataframe thead th {\n",
              "        text-align: right;\n",
              "    }\n",
              "</style>\n",
              "<table border=\"1\" class=\"dataframe\">\n",
              "  <thead>\n",
              "    <tr style=\"text-align: right;\">\n",
              "      <th></th>\n",
              "      <th>age</th>\n",
              "      <th>salary</th>\n",
              "      <th>balance</th>\n",
              "      <th>day</th>\n",
              "      <th>duration</th>\n",
              "      <th>campaign</th>\n",
              "      <th>pdays</th>\n",
              "      <th>previous</th>\n",
              "      <th>response</th>\n",
              "    </tr>\n",
              "  </thead>\n",
              "  <tbody>\n",
              "    <tr>\n",
              "      <th>age</th>\n",
              "      <td>1.000000</td>\n",
              "      <td>0.058322</td>\n",
              "      <td>0.115480</td>\n",
              "      <td>0.018399</td>\n",
              "      <td>0.060519</td>\n",
              "      <td>0.003842</td>\n",
              "      <td>-0.107863</td>\n",
              "      <td>0.002280</td>\n",
              "      <td>0.072577</td>\n",
              "    </tr>\n",
              "    <tr>\n",
              "      <th>salary</th>\n",
              "      <td>0.058322</td>\n",
              "      <td>1.000000</td>\n",
              "      <td>0.066079</td>\n",
              "      <td>0.002379</td>\n",
              "      <td>0.005734</td>\n",
              "      <td>-0.018559</td>\n",
              "      <td>-0.106134</td>\n",
              "      <td>0.028427</td>\n",
              "      <td>0.036774</td>\n",
              "    </tr>\n",
              "    <tr>\n",
              "      <th>balance</th>\n",
              "      <td>0.115480</td>\n",
              "      <td>0.066079</td>\n",
              "      <td>1.000000</td>\n",
              "      <td>0.051732</td>\n",
              "      <td>0.040998</td>\n",
              "      <td>-0.008150</td>\n",
              "      <td>-0.108122</td>\n",
              "      <td>0.001570</td>\n",
              "      <td>0.076995</td>\n",
              "    </tr>\n",
              "    <tr>\n",
              "      <th>day</th>\n",
              "      <td>0.018399</td>\n",
              "      <td>0.002379</td>\n",
              "      <td>0.051732</td>\n",
              "      <td>1.000000</td>\n",
              "      <td>-0.012687</td>\n",
              "      <td>-0.029295</td>\n",
              "      <td>-0.090095</td>\n",
              "      <td>-0.016801</td>\n",
              "      <td>0.029952</td>\n",
              "    </tr>\n",
              "    <tr>\n",
              "      <th>duration</th>\n",
              "      <td>0.060519</td>\n",
              "      <td>0.005734</td>\n",
              "      <td>0.040998</td>\n",
              "      <td>-0.012687</td>\n",
              "      <td>1.000000</td>\n",
              "      <td>-0.088394</td>\n",
              "      <td>-0.024407</td>\n",
              "      <td>-0.002150</td>\n",
              "      <td>0.342610</td>\n",
              "    </tr>\n",
              "    <tr>\n",
              "      <th>campaign</th>\n",
              "      <td>0.003842</td>\n",
              "      <td>-0.018559</td>\n",
              "      <td>-0.008150</td>\n",
              "      <td>-0.029295</td>\n",
              "      <td>-0.088394</td>\n",
              "      <td>1.000000</td>\n",
              "      <td>0.050534</td>\n",
              "      <td>0.135523</td>\n",
              "      <td>-0.094110</td>\n",
              "    </tr>\n",
              "    <tr>\n",
              "      <th>pdays</th>\n",
              "      <td>-0.107863</td>\n",
              "      <td>-0.106134</td>\n",
              "      <td>-0.108122</td>\n",
              "      <td>-0.090095</td>\n",
              "      <td>-0.024407</td>\n",
              "      <td>0.050534</td>\n",
              "      <td>1.000000</td>\n",
              "      <td>-0.021885</td>\n",
              "      <td>-0.152206</td>\n",
              "    </tr>\n",
              "    <tr>\n",
              "      <th>previous</th>\n",
              "      <td>0.002280</td>\n",
              "      <td>0.028427</td>\n",
              "      <td>0.001570</td>\n",
              "      <td>-0.016801</td>\n",
              "      <td>-0.002150</td>\n",
              "      <td>0.135523</td>\n",
              "      <td>-0.021885</td>\n",
              "      <td>1.000000</td>\n",
              "      <td>0.008622</td>\n",
              "    </tr>\n",
              "    <tr>\n",
              "      <th>response</th>\n",
              "      <td>0.072577</td>\n",
              "      <td>0.036774</td>\n",
              "      <td>0.076995</td>\n",
              "      <td>0.029952</td>\n",
              "      <td>0.342610</td>\n",
              "      <td>-0.094110</td>\n",
              "      <td>-0.152206</td>\n",
              "      <td>0.008622</td>\n",
              "      <td>1.000000</td>\n",
              "    </tr>\n",
              "  </tbody>\n",
              "</table>\n",
              "</div>"
            ],
            "text/plain": [
              "               age    salary   balance  ...     pdays  previous  response\n",
              "age       1.000000  0.058322  0.115480  ... -0.107863  0.002280  0.072577\n",
              "salary    0.058322  1.000000  0.066079  ... -0.106134  0.028427  0.036774\n",
              "balance   0.115480  0.066079  1.000000  ... -0.108122  0.001570  0.076995\n",
              "day       0.018399  0.002379  0.051732  ... -0.090095 -0.016801  0.029952\n",
              "duration  0.060519  0.005734  0.040998  ... -0.024407 -0.002150  0.342610\n",
              "campaign  0.003842 -0.018559 -0.008150  ...  0.050534  0.135523 -0.094110\n",
              "pdays    -0.107863 -0.106134 -0.108122  ...  1.000000 -0.021885 -0.152206\n",
              "previous  0.002280  0.028427  0.001570  ... -0.021885  1.000000  0.008622\n",
              "response  0.072577  0.036774  0.076995  ... -0.152206  0.008622  1.000000\n",
              "\n",
              "[9 rows x 9 columns]"
            ]
          },
          "metadata": {
            "tags": []
          },
          "execution_count": 36
        }
      ]
    },
    {
      "cell_type": "code",
      "metadata": {
        "colab_type": "code",
        "id": "uzfz77Pry8_l",
        "colab": {
          "base_uri": "https://localhost:8080/",
          "height": 326
        },
        "outputId": "1f00a53c-6736-401b-8ad3-202b1f37fedb"
      },
      "source": [
        "sns.heatmap(df1.corr(),annot=True)"
      ],
      "execution_count": 37,
      "outputs": [
        {
          "output_type": "execute_result",
          "data": {
            "text/plain": [
              "<matplotlib.axes._subplots.AxesSubplot at 0x7fa811a51e10>"
            ]
          },
          "metadata": {
            "tags": []
          },
          "execution_count": 37
        },
        {
          "output_type": "display_data",
          "data": {
            "image/png": "[encoded data removed]",
            "text/plain": [
              "<Figure size 432x288 with 2 Axes>"
            ]
          },
          "metadata": {
            "tags": [],
            "needs_background": "light"
          }
        }
      ]
    },
    {
      "cell_type": "markdown",
      "metadata": {
        "colab_type": "text",
        "id": "WTkfEFXS0Kcr"
      },
      "source": [
        "We can see that duration variable is highly correlated with response variable"
      ]
    },
    {
      "cell_type": "code",
      "metadata": {
        "colab_type": "code",
        "id": "DoRKet_X0OWs",
        "colab": {
          "base_uri": "https://localhost:8080/",
          "height": 1000
        },
        "outputId": "fd49b10a-b2cd-4190-a53f-c4c377fd8fa4"
      },
      "source": [
        "from numpy import median\n",
        "for col in obj[1:]:\n",
        "    plt = df1[[col,'response']].groupby(df1[col]).mean().plot(kind='bar',legend = False,)\n",
        "    plt.set(xlabel=col,ylabel='Response')"
      ],
      "execution_count": 38,
      "outputs": [
        {
          "output_type": "display_data",
          "data": {
            "image/png": "[encoded data removed]",
            "text/plain": [
              "<Figure size 432x288 with 1 Axes>"
            ]
          },
          "metadata": {
            "tags": [],
            "needs_background": "light"
          }
        },
        {
          "output_type": "display_data",
          "data": {
            "image/png": "[encoded data removed]",
            "text/plain": [
              "<Figure size 432x288 with 1 Axes>"
            ]
          },
          "metadata": {
            "tags": [],
            "needs_background": "light"
          }
        },
        {
          "output_type": "display_data",
          "data": {
            "image/png": "[encoded data removed]",
            "text/plain": [
              "<Figure size 432x288 with 1 Axes>"
            ]
          },
          "metadata": {
            "tags": [],
            "needs_background": "light"
          }
        },
        {
          "output_type": "display_data",
          "data": {
            "image/png": "[encoded data removed]",
            "text/plain": [
              "<Figure size 432x288 with 1 Axes>"
            ]
          },
          "metadata": {
            "tags": [],
            "needs_background": "light"
          }
        },
        {
          "output_type": "display_data",
          "data": {
            "image/png": "[encoded data removed]",
            "text/plain": [
              "<Figure size 432x288 with 1 Axes>"
            ]
          },
          "metadata": {
            "tags": [],
            "needs_background": "light"
          }
        },
        {
          "output_type": "display_data",
          "data": {
            "image/png": "[encoded data removed]",
            "text/plain": [
              "<Figure size 432x288 with 1 Axes>"
            ]
          },
          "metadata": {
            "tags": [],
            "needs_background": "light"
          }
        },
        {
          "output_type": "display_data",
          "data": {
            "image/png": "[encoded data removed]",
            "text/plain": [
              "<Figure size 432x288 with 1 Axes>"
            ]
          },
          "metadata": {
            "tags": [],
            "needs_background": "light"
          }
        },
        {
          "output_type": "display_data",
          "data": {
            "image/png": "[encoded data removed]",
            "text/plain": [
              "<Figure size 432x288 with 1 Axes>"
            ]
          },
          "metadata": {
            "tags": [],
            "needs_background": "light"
          }
        },
        {
          "output_type": "display_data",
          "data": {
            "image/png": "[encoded data removed]",
            "text/plain": [
              "<Figure size 432x288 with 1 Axes>"
            ]
          },
          "metadata": {
            "tags": [],
            "needs_background": "light"
          }
        }
      ]
    },
    {
      "cell_type": "markdown",
      "metadata": {
        "colab_type": "text",
        "id": "KNE8bcPB22Sk"
      },
      "source": [
        "As we know that the Logistic Regression Model does not work on categorical variable. Hence, we have to encode the columns with the help of label encoder."
      ]
    },
    {
      "cell_type": "code",
      "metadata": {
        "colab_type": "code",
        "id": "IuGQ7iH_3LBf",
        "colab": {}
      },
      "source": [
        "from sklearn.preprocessing import LabelEncoder"
      ],
      "execution_count": 39,
      "outputs": []
    },
    {
      "cell_type": "code",
      "metadata": {
        "colab_type": "code",
        "id": "lVA_MPK13O3Y",
        "colab": {}
      },
      "source": [
        "df2 = df1[obj].apply(LabelEncoder().fit_transform)"
      ],
      "execution_count": 40,
      "outputs": []
    },
    {
      "cell_type": "code",
      "metadata": {
        "colab_type": "code",
        "id": "V662yFen3WXh",
        "colab": {
          "base_uri": "https://localhost:8080/",
          "height": 204
        },
        "outputId": "f643c08f-22f8-49bb-9924-443f043bd9a7"
      },
      "source": [
        "df2.head()"
      ],
      "execution_count": 41,
      "outputs": [
        {
          "output_type": "execute_result",
          "data": {
            "text/html": [
              "<div>\n",
              "<style scoped>\n",
              "    .dataframe tbody tr th:only-of-type {\n",
              "        vertical-align: middle;\n",
              "    }\n",
              "\n",
              "    .dataframe tbody tr th {\n",
              "        vertical-align: top;\n",
              "    }\n",
              "\n",
              "    .dataframe thead th {\n",
              "        text-align: right;\n",
              "    }\n",
              "</style>\n",
              "<table border=\"1\" class=\"dataframe\">\n",
              "  <thead>\n",
              "    <tr style=\"text-align: right;\">\n",
              "      <th></th>\n",
              "      <th>job</th>\n",
              "      <th>marital</th>\n",
              "      <th>education</th>\n",
              "      <th>targeted</th>\n",
              "      <th>default</th>\n",
              "      <th>housing</th>\n",
              "      <th>loan</th>\n",
              "      <th>contact</th>\n",
              "      <th>month</th>\n",
              "      <th>poutcome</th>\n",
              "    </tr>\n",
              "  </thead>\n",
              "  <tbody>\n",
              "    <tr>\n",
              "      <th>24060</th>\n",
              "      <td>0</td>\n",
              "      <td>1</td>\n",
              "      <td>2</td>\n",
              "      <td>1</td>\n",
              "      <td>0</td>\n",
              "      <td>0</td>\n",
              "      <td>0</td>\n",
              "      <td>1</td>\n",
              "      <td>10</td>\n",
              "      <td>0</td>\n",
              "    </tr>\n",
              "    <tr>\n",
              "      <th>24062</th>\n",
              "      <td>0</td>\n",
              "      <td>2</td>\n",
              "      <td>1</td>\n",
              "      <td>1</td>\n",
              "      <td>0</td>\n",
              "      <td>1</td>\n",
              "      <td>1</td>\n",
              "      <td>1</td>\n",
              "      <td>10</td>\n",
              "      <td>1</td>\n",
              "    </tr>\n",
              "    <tr>\n",
              "      <th>24064</th>\n",
              "      <td>7</td>\n",
              "      <td>1</td>\n",
              "      <td>1</td>\n",
              "      <td>1</td>\n",
              "      <td>0</td>\n",
              "      <td>1</td>\n",
              "      <td>0</td>\n",
              "      <td>1</td>\n",
              "      <td>10</td>\n",
              "      <td>0</td>\n",
              "    </tr>\n",
              "    <tr>\n",
              "      <th>24072</th>\n",
              "      <td>4</td>\n",
              "      <td>1</td>\n",
              "      <td>2</td>\n",
              "      <td>1</td>\n",
              "      <td>0</td>\n",
              "      <td>1</td>\n",
              "      <td>0</td>\n",
              "      <td>1</td>\n",
              "      <td>10</td>\n",
              "      <td>1</td>\n",
              "    </tr>\n",
              "    <tr>\n",
              "      <th>24077</th>\n",
              "      <td>4</td>\n",
              "      <td>1</td>\n",
              "      <td>2</td>\n",
              "      <td>1</td>\n",
              "      <td>0</td>\n",
              "      <td>1</td>\n",
              "      <td>0</td>\n",
              "      <td>1</td>\n",
              "      <td>10</td>\n",
              "      <td>0</td>\n",
              "    </tr>\n",
              "  </tbody>\n",
              "</table>\n",
              "</div>"
            ],
            "text/plain": [
              "       job  marital  education  targeted  ...  loan  contact  month  poutcome\n",
              "24060    0        1          2         1  ...     0        1     10         0\n",
              "24062    0        2          1         1  ...     1        1     10         1\n",
              "24064    7        1          1         1  ...     0        1     10         0\n",
              "24072    4        1          2         1  ...     0        1     10         1\n",
              "24077    4        1          2         1  ...     0        1     10         0\n",
              "\n",
              "[5 rows x 10 columns]"
            ]
          },
          "metadata": {
            "tags": []
          },
          "execution_count": 41
        }
      ]
    },
    {
      "cell_type": "code",
      "metadata": {
        "colab_type": "code",
        "id": "2Sq59B_x3Zks",
        "colab": {}
      },
      "source": [
        "df3 = df2.join(df1[num])"
      ],
      "execution_count": 42,
      "outputs": []
    },
    {
      "cell_type": "code",
      "metadata": {
        "colab_type": "code",
        "id": "LdPJFj5P3k7A",
        "colab": {
          "base_uri": "https://localhost:8080/",
          "height": 224
        },
        "outputId": "ad949277-338b-46bc-a189-9a0757cca503"
      },
      "source": [
        "df3.head()"
      ],
      "execution_count": 43,
      "outputs": [
        {
          "output_type": "execute_result",
          "data": {
            "text/html": [
              "<div>\n",
              "<style scoped>\n",
              "    .dataframe tbody tr th:only-of-type {\n",
              "        vertical-align: middle;\n",
              "    }\n",
              "\n",
              "    .dataframe tbody tr th {\n",
              "        vertical-align: top;\n",
              "    }\n",
              "\n",
              "    .dataframe thead th {\n",
              "        text-align: right;\n",
              "    }\n",
              "</style>\n",
              "<table border=\"1\" class=\"dataframe\">\n",
              "  <thead>\n",
              "    <tr style=\"text-align: right;\">\n",
              "      <th></th>\n",
              "      <th>job</th>\n",
              "      <th>marital</th>\n",
              "      <th>education</th>\n",
              "      <th>targeted</th>\n",
              "      <th>default</th>\n",
              "      <th>housing</th>\n",
              "      <th>loan</th>\n",
              "      <th>contact</th>\n",
              "      <th>month</th>\n",
              "      <th>poutcome</th>\n",
              "      <th>age</th>\n",
              "      <th>salary</th>\n",
              "      <th>balance</th>\n",
              "      <th>day</th>\n",
              "      <th>duration</th>\n",
              "      <th>campaign</th>\n",
              "      <th>pdays</th>\n",
              "      <th>previous</th>\n",
              "      <th>response</th>\n",
              "    </tr>\n",
              "  </thead>\n",
              "  <tbody>\n",
              "    <tr>\n",
              "      <th>24060</th>\n",
              "      <td>0</td>\n",
              "      <td>1</td>\n",
              "      <td>2</td>\n",
              "      <td>1</td>\n",
              "      <td>0</td>\n",
              "      <td>0</td>\n",
              "      <td>0</td>\n",
              "      <td>1</td>\n",
              "      <td>10</td>\n",
              "      <td>0</td>\n",
              "      <td>33</td>\n",
              "      <td>50000</td>\n",
              "      <td>882</td>\n",
              "      <td>21</td>\n",
              "      <td>39</td>\n",
              "      <td>1</td>\n",
              "      <td>151</td>\n",
              "      <td>3</td>\n",
              "      <td>0</td>\n",
              "    </tr>\n",
              "    <tr>\n",
              "      <th>24062</th>\n",
              "      <td>0</td>\n",
              "      <td>2</td>\n",
              "      <td>1</td>\n",
              "      <td>1</td>\n",
              "      <td>0</td>\n",
              "      <td>1</td>\n",
              "      <td>1</td>\n",
              "      <td>1</td>\n",
              "      <td>10</td>\n",
              "      <td>1</td>\n",
              "      <td>42</td>\n",
              "      <td>50000</td>\n",
              "      <td>-247</td>\n",
              "      <td>21</td>\n",
              "      <td>519</td>\n",
              "      <td>1</td>\n",
              "      <td>166</td>\n",
              "      <td>1</td>\n",
              "      <td>1</td>\n",
              "    </tr>\n",
              "    <tr>\n",
              "      <th>24064</th>\n",
              "      <td>7</td>\n",
              "      <td>1</td>\n",
              "      <td>1</td>\n",
              "      <td>1</td>\n",
              "      <td>0</td>\n",
              "      <td>1</td>\n",
              "      <td>0</td>\n",
              "      <td>1</td>\n",
              "      <td>10</td>\n",
              "      <td>0</td>\n",
              "      <td>33</td>\n",
              "      <td>70000</td>\n",
              "      <td>3444</td>\n",
              "      <td>21</td>\n",
              "      <td>144</td>\n",
              "      <td>1</td>\n",
              "      <td>91</td>\n",
              "      <td>4</td>\n",
              "      <td>1</td>\n",
              "    </tr>\n",
              "    <tr>\n",
              "      <th>24072</th>\n",
              "      <td>4</td>\n",
              "      <td>1</td>\n",
              "      <td>2</td>\n",
              "      <td>1</td>\n",
              "      <td>0</td>\n",
              "      <td>1</td>\n",
              "      <td>0</td>\n",
              "      <td>1</td>\n",
              "      <td>10</td>\n",
              "      <td>1</td>\n",
              "      <td>36</td>\n",
              "      <td>100000</td>\n",
              "      <td>2415</td>\n",
              "      <td>22</td>\n",
              "      <td>73</td>\n",
              "      <td>1</td>\n",
              "      <td>86</td>\n",
              "      <td>4</td>\n",
              "      <td>0</td>\n",
              "    </tr>\n",
              "    <tr>\n",
              "      <th>24077</th>\n",
              "      <td>4</td>\n",
              "      <td>1</td>\n",
              "      <td>2</td>\n",
              "      <td>1</td>\n",
              "      <td>0</td>\n",
              "      <td>1</td>\n",
              "      <td>0</td>\n",
              "      <td>1</td>\n",
              "      <td>10</td>\n",
              "      <td>0</td>\n",
              "      <td>36</td>\n",
              "      <td>100000</td>\n",
              "      <td>0</td>\n",
              "      <td>23</td>\n",
              "      <td>140</td>\n",
              "      <td>1</td>\n",
              "      <td>143</td>\n",
              "      <td>3</td>\n",
              "      <td>1</td>\n",
              "    </tr>\n",
              "  </tbody>\n",
              "</table>\n",
              "</div>"
            ],
            "text/plain": [
              "       job  marital  education  targeted  ...  campaign  pdays  previous  response\n",
              "24060    0        1          2         1  ...         1    151         3         0\n",
              "24062    0        2          1         1  ...         1    166         1         1\n",
              "24064    7        1          1         1  ...         1     91         4         1\n",
              "24072    4        1          2         1  ...         1     86         4         0\n",
              "24077    4        1          2         1  ...         1    143         3         1\n",
              "\n",
              "[5 rows x 19 columns]"
            ]
          },
          "metadata": {
            "tags": []
          },
          "execution_count": 43
        }
      ]
    },
    {
      "cell_type": "code",
      "metadata": {
        "id": "DBe9566nt_zl",
        "colab_type": "code",
        "colab": {
          "base_uri": "https://localhost:8080/",
          "height": 68
        },
        "outputId": "62d333d9-5092-4cbf-cd18-dacce5ace123"
      },
      "source": [
        "df3[\"response\"].value_counts()"
      ],
      "execution_count": 44,
      "outputs": [
        {
          "output_type": "execute_result",
          "data": {
            "text/plain": [
              "0    6352\n",
              "1    1905\n",
              "Name: response, dtype: int64"
            ]
          },
          "metadata": {
            "tags": []
          },
          "execution_count": 44
        }
      ]
    },
    {
      "cell_type": "code",
      "metadata": {
        "colab_type": "code",
        "id": "lV49CM0p3pdB",
        "colab": {
          "base_uri": "https://localhost:8080/",
          "height": 658
        },
        "outputId": "8e9578c8-5851-45f5-8666-bfce5447f2d9"
      },
      "source": [
        "df3.corr()"
      ],
      "execution_count": 45,
      "outputs": [
        {
          "output_type": "execute_result",
          "data": {
            "text/html": [
              "<div>\n",
              "<style scoped>\n",
              "    .dataframe tbody tr th:only-of-type {\n",
              "        vertical-align: middle;\n",
              "    }\n",
              "\n",
              "    .dataframe tbody tr th {\n",
              "        vertical-align: top;\n",
              "    }\n",
              "\n",
              "    .dataframe thead th {\n",
              "        text-align: right;\n",
              "    }\n",
              "</style>\n",
              "<table border=\"1\" class=\"dataframe\">\n",
              "  <thead>\n",
              "    <tr style=\"text-align: right;\">\n",
              "      <th></th>\n",
              "      <th>job</th>\n",
              "      <th>marital</th>\n",
              "      <th>education</th>\n",
              "      <th>targeted</th>\n",
              "      <th>default</th>\n",
              "      <th>housing</th>\n",
              "      <th>loan</th>\n",
              "      <th>contact</th>\n",
              "      <th>month</th>\n",
              "      <th>poutcome</th>\n",
              "      <th>age</th>\n",
              "      <th>salary</th>\n",
              "      <th>balance</th>\n",
              "      <th>day</th>\n",
              "      <th>duration</th>\n",
              "      <th>campaign</th>\n",
              "      <th>pdays</th>\n",
              "      <th>previous</th>\n",
              "      <th>response</th>\n",
              "    </tr>\n",
              "  </thead>\n",
              "  <tbody>\n",
              "    <tr>\n",
              "      <th>job</th>\n",
              "      <td>1.000000</td>\n",
              "      <td>0.072746</td>\n",
              "      <td>0.159280</td>\n",
              "      <td>-0.091197</td>\n",
              "      <td>-0.021012</td>\n",
              "      <td>-0.132378</td>\n",
              "      <td>-0.033500</td>\n",
              "      <td>-0.006279</td>\n",
              "      <td>-0.002498</td>\n",
              "      <td>0.066642</td>\n",
              "      <td>-0.020606</td>\n",
              "      <td>0.115271</td>\n",
              "      <td>0.041975</td>\n",
              "      <td>0.013841</td>\n",
              "      <td>0.024449</td>\n",
              "      <td>-0.008764</td>\n",
              "      <td>-0.110505</td>\n",
              "      <td>-0.000266</td>\n",
              "      <td>0.081239</td>\n",
              "    </tr>\n",
              "    <tr>\n",
              "      <th>marital</th>\n",
              "      <td>0.072746</td>\n",
              "      <td>1.000000</td>\n",
              "      <td>0.121688</td>\n",
              "      <td>-0.255247</td>\n",
              "      <td>-0.005632</td>\n",
              "      <td>-0.056963</td>\n",
              "      <td>-0.055435</td>\n",
              "      <td>-0.031866</td>\n",
              "      <td>-0.024130</td>\n",
              "      <td>0.045015</td>\n",
              "      <td>-0.414972</td>\n",
              "      <td>-0.042212</td>\n",
              "      <td>-0.019767</td>\n",
              "      <td>0.016797</td>\n",
              "      <td>-0.009075</td>\n",
              "      <td>-0.008338</td>\n",
              "      <td>-0.011861</td>\n",
              "      <td>0.004536</td>\n",
              "      <td>0.049234</td>\n",
              "    </tr>\n",
              "    <tr>\n",
              "      <th>education</th>\n",
              "      <td>0.159280</td>\n",
              "      <td>0.121688</td>\n",
              "      <td>1.000000</td>\n",
              "      <td>-0.632513</td>\n",
              "      <td>-0.013682</td>\n",
              "      <td>-0.129804</td>\n",
              "      <td>-0.047718</td>\n",
              "      <td>-0.048456</td>\n",
              "      <td>-0.010829</td>\n",
              "      <td>0.082852</td>\n",
              "      <td>-0.119516</td>\n",
              "      <td>0.423157</td>\n",
              "      <td>0.074166</td>\n",
              "      <td>0.023542</td>\n",
              "      <td>-0.001142</td>\n",
              "      <td>-0.024343</td>\n",
              "      <td>-0.140155</td>\n",
              "      <td>0.000115</td>\n",
              "      <td>0.108098</td>\n",
              "    </tr>\n",
              "    <tr>\n",
              "      <th>targeted</th>\n",
              "      <td>-0.091197</td>\n",
              "      <td>-0.255247</td>\n",
              "      <td>-0.632513</td>\n",
              "      <td>1.000000</td>\n",
              "      <td>0.019593</td>\n",
              "      <td>0.087470</td>\n",
              "      <td>0.070420</td>\n",
              "      <td>0.020464</td>\n",
              "      <td>0.010187</td>\n",
              "      <td>-0.071356</td>\n",
              "      <td>0.140750</td>\n",
              "      <td>-0.228338</td>\n",
              "      <td>-0.052007</td>\n",
              "      <td>-0.026179</td>\n",
              "      <td>-0.014729</td>\n",
              "      <td>0.017948</td>\n",
              "      <td>0.075638</td>\n",
              "      <td>-0.001205</td>\n",
              "      <td>-0.091216</td>\n",
              "    </tr>\n",
              "    <tr>\n",
              "      <th>default</th>\n",
              "      <td>-0.021012</td>\n",
              "      <td>-0.005632</td>\n",
              "      <td>-0.013682</td>\n",
              "      <td>0.019593</td>\n",
              "      <td>1.000000</td>\n",
              "      <td>0.022644</td>\n",
              "      <td>0.052261</td>\n",
              "      <td>-0.019834</td>\n",
              "      <td>0.020123</td>\n",
              "      <td>-0.025566</td>\n",
              "      <td>-0.027825</td>\n",
              "      <td>0.000361</td>\n",
              "      <td>-0.045010</td>\n",
              "      <td>-0.001013</td>\n",
              "      <td>-0.002635</td>\n",
              "      <td>-0.002064</td>\n",
              "      <td>0.033760</td>\n",
              "      <td>0.012149</td>\n",
              "      <td>-0.028299</td>\n",
              "    </tr>\n",
              "    <tr>\n",
              "      <th>housing</th>\n",
              "      <td>-0.132378</td>\n",
              "      <td>-0.056963</td>\n",
              "      <td>-0.129804</td>\n",
              "      <td>0.087470</td>\n",
              "      <td>0.022644</td>\n",
              "      <td>1.000000</td>\n",
              "      <td>0.109815</td>\n",
              "      <td>-0.069869</td>\n",
              "      <td>0.014452</td>\n",
              "      <td>-0.284439</td>\n",
              "      <td>-0.179386</td>\n",
              "      <td>-0.035905</td>\n",
              "      <td>-0.109163</td>\n",
              "      <td>-0.066740</td>\n",
              "      <td>-0.072070</td>\n",
              "      <td>0.063071</td>\n",
              "      <td>0.335124</td>\n",
              "      <td>0.008934</td>\n",
              "      <td>-0.317501</td>\n",
              "    </tr>\n",
              "    <tr>\n",
              "      <th>loan</th>\n",
              "      <td>-0.033500</td>\n",
              "      <td>-0.055435</td>\n",
              "      <td>-0.047718</td>\n",
              "      <td>0.070420</td>\n",
              "      <td>0.052261</td>\n",
              "      <td>0.109815</td>\n",
              "      <td>1.000000</td>\n",
              "      <td>-0.020904</td>\n",
              "      <td>0.000524</td>\n",
              "      <td>-0.103154</td>\n",
              "      <td>-0.008330</td>\n",
              "      <td>0.013788</td>\n",
              "      <td>-0.085004</td>\n",
              "      <td>0.007550</td>\n",
              "      <td>-0.033874</td>\n",
              "      <td>0.007444</td>\n",
              "      <td>0.022454</td>\n",
              "      <td>0.016549</td>\n",
              "      <td>-0.115805</td>\n",
              "    </tr>\n",
              "    <tr>\n",
              "      <th>contact</th>\n",
              "      <td>-0.006279</td>\n",
              "      <td>-0.031866</td>\n",
              "      <td>-0.048456</td>\n",
              "      <td>0.020464</td>\n",
              "      <td>-0.019834</td>\n",
              "      <td>-0.069869</td>\n",
              "      <td>-0.020904</td>\n",
              "      <td>1.000000</td>\n",
              "      <td>0.047045</td>\n",
              "      <td>0.024590</td>\n",
              "      <td>0.166384</td>\n",
              "      <td>-0.035805</td>\n",
              "      <td>0.030317</td>\n",
              "      <td>-0.012330</td>\n",
              "      <td>-0.036360</td>\n",
              "      <td>0.063199</td>\n",
              "      <td>0.077235</td>\n",
              "      <td>0.043830</td>\n",
              "      <td>-0.014321</td>\n",
              "    </tr>\n",
              "    <tr>\n",
              "      <th>month</th>\n",
              "      <td>-0.002498</td>\n",
              "      <td>-0.024130</td>\n",
              "      <td>-0.010829</td>\n",
              "      <td>0.010187</td>\n",
              "      <td>0.020123</td>\n",
              "      <td>0.014452</td>\n",
              "      <td>0.000524</td>\n",
              "      <td>0.047045</td>\n",
              "      <td>1.000000</td>\n",
              "      <td>-0.019188</td>\n",
              "      <td>0.013909</td>\n",
              "      <td>0.019820</td>\n",
              "      <td>0.015723</td>\n",
              "      <td>-0.024264</td>\n",
              "      <td>-0.036446</td>\n",
              "      <td>0.023224</td>\n",
              "      <td>0.022529</td>\n",
              "      <td>0.013977</td>\n",
              "      <td>-0.009586</td>\n",
              "    </tr>\n",
              "    <tr>\n",
              "      <th>poutcome</th>\n",
              "      <td>0.066642</td>\n",
              "      <td>0.045015</td>\n",
              "      <td>0.082852</td>\n",
              "      <td>-0.071356</td>\n",
              "      <td>-0.025566</td>\n",
              "      <td>-0.284439</td>\n",
              "      <td>-0.103154</td>\n",
              "      <td>0.024590</td>\n",
              "      <td>-0.019188</td>\n",
              "      <td>1.000000</td>\n",
              "      <td>0.051987</td>\n",
              "      <td>0.013079</td>\n",
              "      <td>0.051464</td>\n",
              "      <td>0.017125</td>\n",
              "      <td>0.108473</td>\n",
              "      <td>-0.000502</td>\n",
              "      <td>-0.235119</td>\n",
              "      <td>0.041607</td>\n",
              "      <td>0.420519</td>\n",
              "    </tr>\n",
              "    <tr>\n",
              "      <th>age</th>\n",
              "      <td>-0.020606</td>\n",
              "      <td>-0.414972</td>\n",
              "      <td>-0.119516</td>\n",
              "      <td>0.140750</td>\n",
              "      <td>-0.027825</td>\n",
              "      <td>-0.179386</td>\n",
              "      <td>-0.008330</td>\n",
              "      <td>0.166384</td>\n",
              "      <td>0.013909</td>\n",
              "      <td>0.051987</td>\n",
              "      <td>1.000000</td>\n",
              "      <td>0.058322</td>\n",
              "      <td>0.115480</td>\n",
              "      <td>0.018399</td>\n",
              "      <td>0.060519</td>\n",
              "      <td>0.003842</td>\n",
              "      <td>-0.107863</td>\n",
              "      <td>0.002280</td>\n",
              "      <td>0.072577</td>\n",
              "    </tr>\n",
              "    <tr>\n",
              "      <th>salary</th>\n",
              "      <td>0.115271</td>\n",
              "      <td>-0.042212</td>\n",
              "      <td>0.423157</td>\n",
              "      <td>-0.228338</td>\n",
              "      <td>0.000361</td>\n",
              "      <td>-0.035905</td>\n",
              "      <td>0.013788</td>\n",
              "      <td>-0.035805</td>\n",
              "      <td>0.019820</td>\n",
              "      <td>0.013079</td>\n",
              "      <td>0.058322</td>\n",
              "      <td>1.000000</td>\n",
              "      <td>0.066079</td>\n",
              "      <td>0.002379</td>\n",
              "      <td>0.005734</td>\n",
              "      <td>-0.018559</td>\n",
              "      <td>-0.106134</td>\n",
              "      <td>0.028427</td>\n",
              "      <td>0.036774</td>\n",
              "    </tr>\n",
              "    <tr>\n",
              "      <th>balance</th>\n",
              "      <td>0.041975</td>\n",
              "      <td>-0.019767</td>\n",
              "      <td>0.074166</td>\n",
              "      <td>-0.052007</td>\n",
              "      <td>-0.045010</td>\n",
              "      <td>-0.109163</td>\n",
              "      <td>-0.085004</td>\n",
              "      <td>0.030317</td>\n",
              "      <td>0.015723</td>\n",
              "      <td>0.051464</td>\n",
              "      <td>0.115480</td>\n",
              "      <td>0.066079</td>\n",
              "      <td>1.000000</td>\n",
              "      <td>0.051732</td>\n",
              "      <td>0.040998</td>\n",
              "      <td>-0.008150</td>\n",
              "      <td>-0.108122</td>\n",
              "      <td>0.001570</td>\n",
              "      <td>0.076995</td>\n",
              "    </tr>\n",
              "    <tr>\n",
              "      <th>day</th>\n",
              "      <td>0.013841</td>\n",
              "      <td>0.016797</td>\n",
              "      <td>0.023542</td>\n",
              "      <td>-0.026179</td>\n",
              "      <td>-0.001013</td>\n",
              "      <td>-0.066740</td>\n",
              "      <td>0.007550</td>\n",
              "      <td>-0.012330</td>\n",
              "      <td>-0.024264</td>\n",
              "      <td>0.017125</td>\n",
              "      <td>0.018399</td>\n",
              "      <td>0.002379</td>\n",
              "      <td>0.051732</td>\n",
              "      <td>1.000000</td>\n",
              "      <td>-0.012687</td>\n",
              "      <td>-0.029295</td>\n",
              "      <td>-0.090095</td>\n",
              "      <td>-0.016801</td>\n",
              "      <td>0.029952</td>\n",
              "    </tr>\n",
              "    <tr>\n",
              "      <th>duration</th>\n",
              "      <td>0.024449</td>\n",
              "      <td>-0.009075</td>\n",
              "      <td>-0.001142</td>\n",
              "      <td>-0.014729</td>\n",
              "      <td>-0.002635</td>\n",
              "      <td>-0.072070</td>\n",
              "      <td>-0.033874</td>\n",
              "      <td>-0.036360</td>\n",
              "      <td>-0.036446</td>\n",
              "      <td>0.108473</td>\n",
              "      <td>0.060519</td>\n",
              "      <td>0.005734</td>\n",
              "      <td>0.040998</td>\n",
              "      <td>-0.012687</td>\n",
              "      <td>1.000000</td>\n",
              "      <td>-0.088394</td>\n",
              "      <td>-0.024407</td>\n",
              "      <td>-0.002150</td>\n",
              "      <td>0.342610</td>\n",
              "    </tr>\n",
              "    <tr>\n",
              "      <th>campaign</th>\n",
              "      <td>-0.008764</td>\n",
              "      <td>-0.008338</td>\n",
              "      <td>-0.024343</td>\n",
              "      <td>0.017948</td>\n",
              "      <td>-0.002064</td>\n",
              "      <td>0.063071</td>\n",
              "      <td>0.007444</td>\n",
              "      <td>0.063199</td>\n",
              "      <td>0.023224</td>\n",
              "      <td>-0.000502</td>\n",
              "      <td>0.003842</td>\n",
              "      <td>-0.018559</td>\n",
              "      <td>-0.008150</td>\n",
              "      <td>-0.029295</td>\n",
              "      <td>-0.088394</td>\n",
              "      <td>1.000000</td>\n",
              "      <td>0.050534</td>\n",
              "      <td>0.135523</td>\n",
              "      <td>-0.094110</td>\n",
              "    </tr>\n",
              "    <tr>\n",
              "      <th>pdays</th>\n",
              "      <td>-0.110505</td>\n",
              "      <td>-0.011861</td>\n",
              "      <td>-0.140155</td>\n",
              "      <td>0.075638</td>\n",
              "      <td>0.033760</td>\n",
              "      <td>0.335124</td>\n",
              "      <td>0.022454</td>\n",
              "      <td>0.077235</td>\n",
              "      <td>0.022529</td>\n",
              "      <td>-0.235119</td>\n",
              "      <td>-0.107863</td>\n",
              "      <td>-0.106134</td>\n",
              "      <td>-0.108122</td>\n",
              "      <td>-0.090095</td>\n",
              "      <td>-0.024407</td>\n",
              "      <td>0.050534</td>\n",
              "      <td>1.000000</td>\n",
              "      <td>-0.021885</td>\n",
              "      <td>-0.152206</td>\n",
              "    </tr>\n",
              "    <tr>\n",
              "      <th>previous</th>\n",
              "      <td>-0.000266</td>\n",
              "      <td>0.004536</td>\n",
              "      <td>0.000115</td>\n",
              "      <td>-0.001205</td>\n",
              "      <td>0.012149</td>\n",
              "      <td>0.008934</td>\n",
              "      <td>0.016549</td>\n",
              "      <td>0.043830</td>\n",
              "      <td>0.013977</td>\n",
              "      <td>0.041607</td>\n",
              "      <td>0.002280</td>\n",
              "      <td>0.028427</td>\n",
              "      <td>0.001570</td>\n",
              "      <td>-0.016801</td>\n",
              "      <td>-0.002150</td>\n",
              "      <td>0.135523</td>\n",
              "      <td>-0.021885</td>\n",
              "      <td>1.000000</td>\n",
              "      <td>0.008622</td>\n",
              "    </tr>\n",
              "    <tr>\n",
              "      <th>response</th>\n",
              "      <td>0.081239</td>\n",
              "      <td>0.049234</td>\n",
              "      <td>0.108098</td>\n",
              "      <td>-0.091216</td>\n",
              "      <td>-0.028299</td>\n",
              "      <td>-0.317501</td>\n",
              "      <td>-0.115805</td>\n",
              "      <td>-0.014321</td>\n",
              "      <td>-0.009586</td>\n",
              "      <td>0.420519</td>\n",
              "      <td>0.072577</td>\n",
              "      <td>0.036774</td>\n",
              "      <td>0.076995</td>\n",
              "      <td>0.029952</td>\n",
              "      <td>0.342610</td>\n",
              "      <td>-0.094110</td>\n",
              "      <td>-0.152206</td>\n",
              "      <td>0.008622</td>\n",
              "      <td>1.000000</td>\n",
              "    </tr>\n",
              "  </tbody>\n",
              "</table>\n",
              "</div>"
            ],
            "text/plain": [
              "                job   marital  education  ...     pdays  previous  response\n",
              "job        1.000000  0.072746   0.159280  ... -0.110505 -0.000266  0.081239\n",
              "marital    0.072746  1.000000   0.121688  ... -0.011861  0.004536  0.049234\n",
              "education  0.159280  0.121688   1.000000  ... -0.140155  0.000115  0.108098\n",
              "targeted  -0.091197 -0.255247  -0.632513  ...  0.075638 -0.001205 -0.091216\n",
              "default   -0.021012 -0.005632  -0.013682  ...  0.033760  0.012149 -0.028299\n",
              "housing   -0.132378 -0.056963  -0.129804  ...  0.335124  0.008934 -0.317501\n",
              "loan      -0.033500 -0.055435  -0.047718  ...  0.022454  0.016549 -0.115805\n",
              "contact   -0.006279 -0.031866  -0.048456  ...  0.077235  0.043830 -0.014321\n",
              "month     -0.002498 -0.024130  -0.010829  ...  0.022529  0.013977 -0.009586\n",
              "poutcome   0.066642  0.045015   0.082852  ... -0.235119  0.041607  0.420519\n",
              "age       -0.020606 -0.414972  -0.119516  ... -0.107863  0.002280  0.072577\n",
              "salary     0.115271 -0.042212   0.423157  ... -0.106134  0.028427  0.036774\n",
              "balance    0.041975 -0.019767   0.074166  ... -0.108122  0.001570  0.076995\n",
              "day        0.013841  0.016797   0.023542  ... -0.090095 -0.016801  0.029952\n",
              "duration   0.024449 -0.009075  -0.001142  ... -0.024407 -0.002150  0.342610\n",
              "campaign  -0.008764 -0.008338  -0.024343  ...  0.050534  0.135523 -0.094110\n",
              "pdays     -0.110505 -0.011861  -0.140155  ...  1.000000 -0.021885 -0.152206\n",
              "previous  -0.000266  0.004536   0.000115  ... -0.021885  1.000000  0.008622\n",
              "response   0.081239  0.049234   0.108098  ... -0.152206  0.008622  1.000000\n",
              "\n",
              "[19 rows x 19 columns]"
            ]
          },
          "metadata": {
            "tags": []
          },
          "execution_count": 45
        }
      ]
    },
    {
      "cell_type": "code",
      "metadata": {
        "colab_type": "code",
        "id": "V80aj8a4332D",
        "colab": {
          "base_uri": "https://localhost:8080/",
          "height": 326
        },
        "outputId": "8afe4980-5763-460c-88d2-ccdfaf91fb10"
      },
      "source": [
        "cols=df3.columns\n",
        "correlations=df3[cols].corr()\n",
        "sns.heatmap(correlations)"
      ],
      "execution_count": 46,
      "outputs": [
        {
          "output_type": "execute_result",
          "data": {
            "text/plain": [
              "<matplotlib.axes._subplots.AxesSubplot at 0x7fa80caa9438>"
            ]
          },
          "metadata": {
            "tags": []
          },
          "execution_count": 46
        },
        {
          "output_type": "display_data",
          "data": {
            "image/png": "[encoded data removed]",
            "text/plain": [
              "<Figure size 432x288 with 2 Axes>"
            ]
          },
          "metadata": {
            "tags": [],
            "needs_background": "light"
          }
        }
      ]
    },
    {
      "cell_type": "markdown",
      "metadata": {
        "colab_type": "text",
        "id": "9rnpImJu4rOW"
      },
      "source": [
        "#**Model Building**"
      ]
    },
    {
      "cell_type": "markdown",
      "metadata": {
        "id": "97diE1jIvph6",
        "colab_type": "text"
      },
      "source": [
        "##**Logistic Regresssion**"
      ]
    },
    {
      "cell_type": "markdown",
      "metadata": {
        "id": "AlptYjcUvfsF",
        "colab_type": "text"
      },
      "source": [
        "#Train-Test split"
      ]
    },
    {
      "cell_type": "code",
      "metadata": {
        "id": "zEDq99a_Sv4y",
        "colab_type": "code",
        "colab": {}
      },
      "source": [
        "X= df3.drop([\"response\"],axis=1)\n",
        "Y=df3.response"
      ],
      "execution_count": 47,
      "outputs": []
    },
    {
      "cell_type": "code",
      "metadata": {
        "id": "heKo920It_0o",
        "colab_type": "code",
        "colab": {}
      },
      "source": [
        "from sklearn.model_selection import train_test_split\n",
        "x_train , x_test , y_train , y_test = train_test_split(X,Y, test_size = 0.3, random_state = 100)"
      ],
      "execution_count": 48,
      "outputs": []
    },
    {
      "cell_type": "code",
      "metadata": {
        "id": "dOCYi0p4E-Y5",
        "colab_type": "code",
        "colab": {}
      },
      "source": [
        "from sklearn.model_selection import train_test_split\n",
        "from sklearn.model_selection import cross_val_score\n",
        "from sklearn.linear_model import LogisticRegression\n",
        "from sklearn.metrics import classification_report\n",
        "from sklearn.metrics import confusion_matrix\n",
        "from sklearn.metrics import f1_score\n",
        "import warnings\n",
        "warnings.filterwarnings(\"ignore\")\n",
        "np.random.seed(42)"
      ],
      "execution_count": 49,
      "outputs": []
    },
    {
      "cell_type": "code",
      "metadata": {
        "id": "yhWMSkjVFCB_",
        "colab_type": "code",
        "colab": {}
      },
      "source": [
        "lr = LogisticRegression()"
      ],
      "execution_count": 50,
      "outputs": []
    },
    {
      "cell_type": "code",
      "metadata": {
        "id": "JC7vuMhyFFFH",
        "colab_type": "code",
        "colab": {
          "base_uri": "https://localhost:8080/",
          "height": 102
        },
        "outputId": "f3f6ea8b-a297-4062-f9c8-25b4e6820229"
      },
      "source": [
        "lr.fit(x_train,y_train)"
      ],
      "execution_count": 51,
      "outputs": [
        {
          "output_type": "execute_result",
          "data": {
            "text/plain": [
              "LogisticRegression(C=1.0, class_weight=None, dual=False, fit_intercept=True,\n",
              "                   intercept_scaling=1, l1_ratio=None, max_iter=100,\n",
              "                   multi_class='auto', n_jobs=None, penalty='l2',\n",
              "                   random_state=None, solver='lbfgs', tol=0.0001, verbose=0,\n",
              "                   warm_start=False)"
            ]
          },
          "metadata": {
            "tags": []
          },
          "execution_count": 51
        }
      ]
    },
    {
      "cell_type": "markdown",
      "metadata": {
        "id": "FesnsVX6FMAy",
        "colab_type": "text"
      },
      "source": [
        "#Cross Validation"
      ]
    },
    {
      "cell_type": "code",
      "metadata": {
        "id": "jCy2XhBzFKgC",
        "colab_type": "code",
        "colab": {
          "base_uri": "https://localhost:8080/",
          "height": 34
        },
        "outputId": "74e765b1-6e7d-4f02-d856-1a55804dd8b1"
      },
      "source": [
        "cv_score= cross_val_score(lr,x_train,y_train, cv=5)\n",
        "np.mean(cv_score)"
      ],
      "execution_count": 52,
      "outputs": [
        {
          "output_type": "execute_result",
          "data": {
            "text/plain": [
              "0.7840458964334397"
            ]
          },
          "metadata": {
            "tags": []
          },
          "execution_count": 52
        }
      ]
    },
    {
      "cell_type": "markdown",
      "metadata": {
        "id": "zQIa1SU5F6gR",
        "colab_type": "text"
      },
      "source": [
        "#Prediction"
      ]
    },
    {
      "cell_type": "code",
      "metadata": {
        "id": "x4icUCszFPlL",
        "colab_type": "code",
        "colab": {}
      },
      "source": [
        "y_pred = lr.predict(x_test)"
      ],
      "execution_count": 53,
      "outputs": []
    },
    {
      "cell_type": "code",
      "metadata": {
        "id": "zvybTIDdFX4_",
        "colab_type": "code",
        "colab": {
          "base_uri": "https://localhost:8080/",
          "height": 34
        },
        "outputId": "ecb390a3-b2b2-4cf3-fed6-6815391a2a0d"
      },
      "source": [
        "lr.score(x_test,y_test) "
      ],
      "execution_count": 54,
      "outputs": [
        {
          "output_type": "execute_result",
          "data": {
            "text/plain": [
              "0.7679580306698951"
            ]
          },
          "metadata": {
            "tags": []
          },
          "execution_count": 54
        }
      ]
    },
    {
      "cell_type": "markdown",
      "metadata": {
        "id": "u8HPFQAzF-ck",
        "colab_type": "text"
      },
      "source": [
        "#Confusion Matrix"
      ]
    },
    {
      "cell_type": "code",
      "metadata": {
        "id": "vT6JXK7UFePg",
        "colab_type": "code",
        "colab": {
          "base_uri": "https://localhost:8080/",
          "height": 51
        },
        "outputId": "474b9fc0-da54-44cf-adb8-eef01d9f8f69"
      },
      "source": [
        "confusion_matrix(y_pred,y_test)"
      ],
      "execution_count": 55,
      "outputs": [
        {
          "output_type": "execute_result",
          "data": {
            "text/plain": [
              "array([[1801,  493],\n",
              "       [  82,  102]])"
            ]
          },
          "metadata": {
            "tags": []
          },
          "execution_count": 55
        }
      ]
    },
    {
      "cell_type": "markdown",
      "metadata": {
        "id": "-feQPMNNGsuj",
        "colab_type": "text"
      },
      "source": [
        "#Classifiction Report"
      ]
    },
    {
      "cell_type": "code",
      "metadata": {
        "id": "oYlJsfl7GrDG",
        "colab_type": "code",
        "colab": {
          "base_uri": "https://localhost:8080/",
          "height": 170
        },
        "outputId": "04dd1a28-cfe1-48c5-a88a-10983b106c13"
      },
      "source": [
        "print(classification_report(y_test, y_pred))"
      ],
      "execution_count": 56,
      "outputs": [
        {
          "output_type": "stream",
          "text": [
            "              precision    recall  f1-score   support\n",
            "\n",
            "           0       0.79      0.96      0.86      1883\n",
            "           1       0.55      0.17      0.26       595\n",
            "\n",
            "    accuracy                           0.77      2478\n",
            "   macro avg       0.67      0.56      0.56      2478\n",
            "weighted avg       0.73      0.77      0.72      2478\n",
            "\n"
          ],
          "name": "stdout"
        }
      ]
    },
    {
      "cell_type": "markdown",
      "metadata": {
        "colab_type": "text",
        "id": "vLua4l6H4QOx"
      },
      "source": [
        "##Using RFE and fitting it into model"
      ]
    },
    {
      "cell_type": "code",
      "metadata": {
        "id": "JqM9T4jft_z8",
        "colab_type": "code",
        "colab": {}
      },
      "source": [
        "from sklearn.feature_selection import RFE\n",
        "from sklearn.linear_model import LogisticRegression\n",
        "import warnings\n",
        "warnings.filterwarnings(\"ignore\")"
      ],
      "execution_count": 57,
      "outputs": []
    },
    {
      "cell_type": "code",
      "metadata": {
        "id": "ki9EOiAdt_0B",
        "colab_type": "code",
        "colab": {}
      },
      "source": [
        "x= df3.drop([\"response\"],axis=1)\n",
        "y=df3.response"
      ],
      "execution_count": 58,
      "outputs": []
    },
    {
      "cell_type": "code",
      "metadata": {
        "id": "VQ7YwB87t_0K",
        "colab_type": "code",
        "colab": {}
      },
      "source": [
        "lm = LogisticRegression()\n",
        "lm.fit(x, y)\n",
        "\n",
        "rfe = RFE(lm, 10)                    \n",
        "rfe = rfe.fit(x,y)"
      ],
      "execution_count": 59,
      "outputs": []
    },
    {
      "cell_type": "code",
      "metadata": {
        "id": "i7xCv_01t_0R",
        "colab_type": "code",
        "colab": {
          "base_uri": "https://localhost:8080/",
          "height": 323
        },
        "outputId": "9bafd95e-8e06-43fe-aadc-89d6732e5f9c"
      },
      "source": [
        "list(zip(x_train.columns,rfe.support_,rfe.ranking_))"
      ],
      "execution_count": 60,
      "outputs": [
        {
          "output_type": "execute_result",
          "data": {
            "text/plain": [
              "[('job', True, 1),\n",
              " ('marital', True, 1),\n",
              " ('education', True, 1),\n",
              " ('targeted', True, 1),\n",
              " ('default', True, 1),\n",
              " ('housing', True, 1),\n",
              " ('loan', True, 1),\n",
              " ('contact', True, 1),\n",
              " ('month', False, 3),\n",
              " ('poutcome', True, 1),\n",
              " ('age', False, 2),\n",
              " ('salary', False, 9),\n",
              " ('balance', False, 8),\n",
              " ('day', False, 6),\n",
              " ('duration', False, 4),\n",
              " ('campaign', True, 1),\n",
              " ('pdays', False, 7),\n",
              " ('previous', False, 5)]"
            ]
          },
          "metadata": {
            "tags": []
          },
          "execution_count": 60
        }
      ]
    },
    {
      "cell_type": "code",
      "metadata": {
        "id": "Wdfah75Pt_0b",
        "colab_type": "code",
        "colab": {
          "base_uri": "https://localhost:8080/",
          "height": 68
        },
        "outputId": "e5e327b0-42e0-4193-cca6-2be423c0092c"
      },
      "source": [
        "col = x.columns[rfe.support_]\n",
        "col"
      ],
      "execution_count": 61,
      "outputs": [
        {
          "output_type": "execute_result",
          "data": {
            "text/plain": [
              "Index(['job', 'marital', 'education', 'targeted', 'default', 'housing', 'loan',\n",
              "       'contact', 'poutcome', 'campaign'],\n",
              "      dtype='object')"
            ]
          },
          "metadata": {
            "tags": []
          },
          "execution_count": 61
        }
      ]
    },
    {
      "cell_type": "code",
      "metadata": {
        "id": "nUIx5zi8t_0h",
        "colab_type": "code",
        "colab": {}
      },
      "source": [
        "X = x[col]\n",
        "Y=df3.response"
      ],
      "execution_count": 62,
      "outputs": []
    },
    {
      "cell_type": "code",
      "metadata": {
        "colab_type": "code",
        "id": "GdO6rqJg6o1q",
        "colab": {}
      },
      "source": [
        "from sklearn.model_selection import train_test_split\n",
        "from sklearn.model_selection import cross_val_score\n",
        "from sklearn.linear_model import LogisticRegression\n",
        "from sklearn.metrics import classification_report\n",
        "from sklearn.metrics import confusion_matrix\n",
        "from sklearn.metrics import f1_score\n",
        "import sklearn.metrics as metrics\n",
        "import warnings\n",
        "warnings.filterwarnings(\"ignore\")\n",
        "np.random.seed(42)"
      ],
      "execution_count": 63,
      "outputs": []
    },
    {
      "cell_type": "code",
      "metadata": {
        "colab_type": "code",
        "id": "r53rEBJc4yFE",
        "colab": {}
      },
      "source": [
        "lr1 = LogisticRegression()"
      ],
      "execution_count": 64,
      "outputs": []
    },
    {
      "cell_type": "code",
      "metadata": {
        "colab_type": "code",
        "id": "XhCDIzPE6zLn",
        "colab": {
          "base_uri": "https://localhost:8080/",
          "height": 102
        },
        "outputId": "02af2baf-1ac2-4ac3-cc86-182c4bd5a91f"
      },
      "source": [
        "lr1.fit(X,Y)"
      ],
      "execution_count": 65,
      "outputs": [
        {
          "output_type": "execute_result",
          "data": {
            "text/plain": [
              "LogisticRegression(C=1.0, class_weight=None, dual=False, fit_intercept=True,\n",
              "                   intercept_scaling=1, l1_ratio=None, max_iter=100,\n",
              "                   multi_class='auto', n_jobs=None, penalty='l2',\n",
              "                   random_state=None, solver='lbfgs', tol=0.0001, verbose=0,\n",
              "                   warm_start=False)"
            ]
          },
          "metadata": {
            "tags": []
          },
          "execution_count": 65
        }
      ]
    },
    {
      "cell_type": "markdown",
      "metadata": {
        "id": "ZgHl1hPjvvUT",
        "colab_type": "text"
      },
      "source": [
        "##Cross Validation"
      ]
    },
    {
      "cell_type": "code",
      "metadata": {
        "colab_type": "code",
        "id": "E8wkk_A869ue",
        "colab": {
          "base_uri": "https://localhost:8080/",
          "height": 34
        },
        "outputId": "637bbb42-c582-4a51-e4cc-cf0750c4def0"
      },
      "source": [
        "cv_score= cross_val_score(lr1,X,Y, cv=5)\n",
        "np.mean(cv_score)"
      ],
      "execution_count": 66,
      "outputs": [
        {
          "output_type": "execute_result",
          "data": {
            "text/plain": [
              "0.8027096352199783"
            ]
          },
          "metadata": {
            "tags": []
          },
          "execution_count": 66
        }
      ]
    },
    {
      "cell_type": "markdown",
      "metadata": {
        "id": "tL2BPaFrv4-_",
        "colab_type": "text"
      },
      "source": [
        "##Prediction"
      ]
    },
    {
      "cell_type": "code",
      "metadata": {
        "colab_type": "code",
        "id": "4z0sDOdk7ZdE",
        "colab": {}
      },
      "source": [
        "y_pred = lr1.predict(X)"
      ],
      "execution_count": 67,
      "outputs": []
    },
    {
      "cell_type": "code",
      "metadata": {
        "id": "Qe7gwcGft_1f",
        "colab_type": "code",
        "colab": {
          "base_uri": "https://localhost:8080/",
          "height": 34
        },
        "outputId": "046206fa-8aa0-4d6d-e439-666a728bced8"
      },
      "source": [
        "lr1.score(X,Y) "
      ],
      "execution_count": 68,
      "outputs": [
        {
          "output_type": "execute_result",
          "data": {
            "text/plain": [
              "0.8194259416252876"
            ]
          },
          "metadata": {
            "tags": []
          },
          "execution_count": 68
        }
      ]
    },
    {
      "cell_type": "code",
      "metadata": {
        "id": "U9emVpY4P9v5",
        "colab_type": "code",
        "colab": {
          "base_uri": "https://localhost:8080/",
          "height": 34
        },
        "outputId": "e9c36d06-847e-4786-ac5b-b504a0a90b7b"
      },
      "source": [
        "print(\"Accuracy:\",metrics.accuracy_score(Y, y_pred))"
      ],
      "execution_count": 69,
      "outputs": [
        {
          "output_type": "stream",
          "text": [
            "Accuracy: 0.8194259416252876\n"
          ],
          "name": "stdout"
        }
      ]
    },
    {
      "cell_type": "markdown",
      "metadata": {
        "id": "2gLHsFBav1Ip",
        "colab_type": "text"
      },
      "source": [
        "##Confusion Matrix"
      ]
    },
    {
      "cell_type": "code",
      "metadata": {
        "id": "XLQ156M0t_1l",
        "colab_type": "code",
        "colab": {
          "base_uri": "https://localhost:8080/",
          "height": 51
        },
        "outputId": "2f8c90c2-c62d-44b2-d4de-a6d11c8dd1a8"
      },
      "source": [
        "confusion_matrix(y_pred,Y)"
      ],
      "execution_count": 70,
      "outputs": [
        {
          "output_type": "execute_result",
          "data": {
            "text/plain": [
              "array([[6000, 1139],\n",
              "       [ 352,  766]])"
            ]
          },
          "metadata": {
            "tags": []
          },
          "execution_count": 70
        }
      ]
    },
    {
      "cell_type": "markdown",
      "metadata": {
        "id": "niT9u8l4y7d5",
        "colab_type": "text"
      },
      "source": [
        "##Classification Report"
      ]
    },
    {
      "cell_type": "code",
      "metadata": {
        "id": "ZDBmgJQIt_1r",
        "colab_type": "code",
        "colab": {
          "base_uri": "https://localhost:8080/",
          "height": 170
        },
        "outputId": "01f48462-9bf7-41ae-aad9-7d16de042af5"
      },
      "source": [
        "print(classification_report(Y, y_pred))"
      ],
      "execution_count": 71,
      "outputs": [
        {
          "output_type": "stream",
          "text": [
            "              precision    recall  f1-score   support\n",
            "\n",
            "           0       0.84      0.94      0.89      6352\n",
            "           1       0.69      0.40      0.51      1905\n",
            "\n",
            "    accuracy                           0.82      8257\n",
            "   macro avg       0.76      0.67      0.70      8257\n",
            "weighted avg       0.80      0.82      0.80      8257\n",
            "\n"
          ],
          "name": "stdout"
        }
      ]
    },
    {
      "cell_type": "markdown",
      "metadata": {
        "id": "wdDK9_MLv9Ag",
        "colab_type": "text"
      },
      "source": [
        "##ROC Curve"
      ]
    },
    {
      "cell_type": "code",
      "metadata": {
        "id": "V2zOlgPzt_15",
        "colab_type": "code",
        "colab": {
          "base_uri": "https://localhost:8080/",
          "height": 295
        },
        "outputId": "32ee1cc9-7854-49b1-ef1c-93b41ef8acc4"
      },
      "source": [
        "from sklearn.metrics import roc_curve, auc\n",
        "import matplotlib.pyplot as plt\n",
        "preds=lr1.predict_proba(X)[:,1]\n",
        "fpr,tpr,thershold=roc_curve(Y,preds,drop_intermediate=False)\n",
        "roc_auc=auc(fpr,tpr)\n",
        "plt.plot(fpr,tpr,'r',label='AUC=%0.2f'% roc_auc)\n",
        "plt.plot([0,1],[0,1],color='blue',lw=2,linestyle='--')\n",
        "plt.legend(loc='lower right')\n",
        "plt.xlabel('fpr')\n",
        "plt.ylabel('tpr')\n",
        "plt.title('roc curve')\n",
        "plt.show()"
      ],
      "execution_count": 72,
      "outputs": [
        {
          "output_type": "display_data",
          "data": {
            "image/png": "[encoded data removed]",
            "text/plain": [
              "<Figure size 432x288 with 1 Axes>"
            ]
          },
          "metadata": {
            "tags": [],
            "needs_background": "light"
          }
        }
      ]
    },
    {
      "cell_type": "markdown",
      "metadata": {
        "id": "4EJPhiPiwGph",
        "colab_type": "text"
      },
      "source": [
        "##VIF Calculation"
      ]
    },
    {
      "cell_type": "code",
      "metadata": {
        "id": "Zk4hdNm-t_18",
        "colab_type": "code",
        "colab": {
          "base_uri": "https://localhost:8080/",
          "height": 359
        },
        "outputId": "eea880d2-e936-4064-acf9-9271b4a8478b"
      },
      "source": [
        "from statsmodels.stats.outliers_influence import variance_inflation_factor\n",
        "\n",
        "vif = pd.DataFrame()\n",
        "X_ = X\n",
        "vif['Features'] = X_.columns\n",
        "vif['VIF'] = [variance_inflation_factor(X_.values, i) for i in range(X_.shape[1])]\n",
        "vif['VIF'] = round(vif['VIF'], 2)\n",
        "vif = vif.sort_values(by = \"VIF\", ascending = False)\n",
        "vif"
      ],
      "execution_count": 73,
      "outputs": [
        {
          "output_type": "execute_result",
          "data": {
            "text/html": [
              "<div>\n",
              "<style scoped>\n",
              "    .dataframe tbody tr th:only-of-type {\n",
              "        vertical-align: middle;\n",
              "    }\n",
              "\n",
              "    .dataframe tbody tr th {\n",
              "        vertical-align: top;\n",
              "    }\n",
              "\n",
              "    .dataframe thead th {\n",
              "        text-align: right;\n",
              "    }\n",
              "</style>\n",
              "<table border=\"1\" class=\"dataframe\">\n",
              "  <thead>\n",
              "    <tr style=\"text-align: right;\">\n",
              "      <th></th>\n",
              "      <th>Features</th>\n",
              "      <th>VIF</th>\n",
              "    </tr>\n",
              "  </thead>\n",
              "  <tbody>\n",
              "    <tr>\n",
              "      <th>1</th>\n",
              "      <td>marital</td>\n",
              "      <td>4.00</td>\n",
              "    </tr>\n",
              "    <tr>\n",
              "      <th>2</th>\n",
              "      <td>education</td>\n",
              "      <td>3.73</td>\n",
              "    </tr>\n",
              "    <tr>\n",
              "      <th>3</th>\n",
              "      <td>targeted</td>\n",
              "      <td>3.60</td>\n",
              "    </tr>\n",
              "    <tr>\n",
              "      <th>0</th>\n",
              "      <td>job</td>\n",
              "      <td>2.80</td>\n",
              "    </tr>\n",
              "    <tr>\n",
              "      <th>5</th>\n",
              "      <td>housing</td>\n",
              "      <td>2.70</td>\n",
              "    </tr>\n",
              "    <tr>\n",
              "      <th>9</th>\n",
              "      <td>campaign</td>\n",
              "      <td>2.65</td>\n",
              "    </tr>\n",
              "    <tr>\n",
              "      <th>8</th>\n",
              "      <td>poutcome</td>\n",
              "      <td>1.67</td>\n",
              "    </tr>\n",
              "    <tr>\n",
              "      <th>6</th>\n",
              "      <td>loan</td>\n",
              "      <td>1.18</td>\n",
              "    </tr>\n",
              "    <tr>\n",
              "      <th>7</th>\n",
              "      <td>contact</td>\n",
              "      <td>1.09</td>\n",
              "    </tr>\n",
              "    <tr>\n",
              "      <th>4</th>\n",
              "      <td>default</td>\n",
              "      <td>1.01</td>\n",
              "    </tr>\n",
              "  </tbody>\n",
              "</table>\n",
              "</div>"
            ],
            "text/plain": [
              "    Features   VIF\n",
              "1    marital  4.00\n",
              "2  education  3.73\n",
              "3   targeted  3.60\n",
              "0        job  2.80\n",
              "5    housing  2.70\n",
              "9   campaign  2.65\n",
              "8   poutcome  1.67\n",
              "6       loan  1.18\n",
              "7    contact  1.09\n",
              "4    default  1.01"
            ]
          },
          "metadata": {
            "tags": []
          },
          "execution_count": 73
        }
      ]
    },
    {
      "cell_type": "code",
      "metadata": {
        "id": "OChQIQk01e1Y",
        "colab_type": "code",
        "colab": {
          "base_uri": "https://localhost:8080/",
          "height": 68
        },
        "outputId": "f349fed1-3dfd-4ca2-9a74-b8155a06a660"
      },
      "source": [
        "df3[\"response\"].value_counts()"
      ],
      "execution_count": 74,
      "outputs": [
        {
          "output_type": "execute_result",
          "data": {
            "text/plain": [
              "0    6352\n",
              "1    1905\n",
              "Name: response, dtype: int64"
            ]
          },
          "metadata": {
            "tags": []
          },
          "execution_count": 74
        }
      ]
    },
    {
      "cell_type": "markdown",
      "metadata": {
        "id": "EdUONd171myV",
        "colab_type": "text"
      },
      "source": [
        "Here, we have imbalance class."
      ]
    },
    {
      "cell_type": "markdown",
      "metadata": {
        "id": "oxI25-t1wMvx",
        "colab_type": "text"
      },
      "source": [
        "##Applying SMOTE for class balancing."
      ]
    },
    {
      "cell_type": "code",
      "metadata": {
        "id": "ccH7Dzv6t_2I",
        "colab_type": "code",
        "colab": {}
      },
      "source": [
        "import numpy as np\n",
        "import pandas as pd\n",
        "import matplotlib.pyplot as plt\n",
        "import seaborn as sns\n",
        "from sklearn.model_selection import train_test_split\n",
        "from sklearn.linear_model import LogisticRegression\n",
        "from sklearn.metrics import confusion_matrix, roc_curve,roc_auc_score,auc"
      ],
      "execution_count": 75,
      "outputs": []
    },
    {
      "cell_type": "code",
      "metadata": {
        "id": "qTlqrJaZt_2M",
        "colab_type": "code",
        "colab": {}
      },
      "source": [
        "from imblearn.over_sampling import SMOTE"
      ],
      "execution_count": 76,
      "outputs": []
    },
    {
      "cell_type": "code",
      "metadata": {
        "id": "Rns38pH8t_2Q",
        "colab_type": "code",
        "colab": {}
      },
      "source": [
        "x_train0, x_test0, y_train0, y_test0 = train_test_split(X, Y, test_size=0.3, random_state=10)"
      ],
      "execution_count": 77,
      "outputs": []
    },
    {
      "cell_type": "code",
      "metadata": {
        "id": "UAQr9RaVt_2V",
        "colab_type": "code",
        "colab": {}
      },
      "source": [
        "from sklearn.preprocessing import StandardScaler\n",
        "sc_X = StandardScaler()\n",
        "x_train0 = sc_X.fit_transform(x_train0)\n",
        "x_train0 = sc_X.transform(x_train0)"
      ],
      "execution_count": 78,
      "outputs": []
    },
    {
      "cell_type": "code",
      "metadata": {
        "id": "gJ7kp-Lvt_2Z",
        "colab_type": "code",
        "colab": {}
      },
      "source": [
        "from imblearn.over_sampling import SMOTE\n",
        "smt = SMOTE()\n",
        "x_train0,y_train0 = smt.fit_sample(x_train0, y_train0)"
      ],
      "execution_count": 79,
      "outputs": []
    },
    {
      "cell_type": "code",
      "metadata": {
        "id": "mdod8oqIt_2d",
        "colab_type": "code",
        "colab": {
          "base_uri": "https://localhost:8080/",
          "height": 102
        },
        "outputId": "249924b9-1e80-4740-d748-2efcc4b729ae"
      },
      "source": [
        "model2 = LogisticRegression()\n",
        "model2.fit(x_train0,y_train0)"
      ],
      "execution_count": 80,
      "outputs": [
        {
          "output_type": "execute_result",
          "data": {
            "text/plain": [
              "LogisticRegression(C=1.0, class_weight=None, dual=False, fit_intercept=True,\n",
              "                   intercept_scaling=1, l1_ratio=None, max_iter=100,\n",
              "                   multi_class='auto', n_jobs=None, penalty='l2',\n",
              "                   random_state=None, solver='lbfgs', tol=0.0001, verbose=0,\n",
              "                   warm_start=False)"
            ]
          },
          "metadata": {
            "tags": []
          },
          "execution_count": 80
        }
      ]
    },
    {
      "cell_type": "markdown",
      "metadata": {
        "id": "XG9VbPDUwVPh",
        "colab_type": "text"
      },
      "source": [
        "##Prediction"
      ]
    },
    {
      "cell_type": "code",
      "metadata": {
        "id": "WhBANjljt_2h",
        "colab_type": "code",
        "colab": {}
      },
      "source": [
        "y_pred0 = model2.predict(x_test0)"
      ],
      "execution_count": 81,
      "outputs": []
    },
    {
      "cell_type": "code",
      "metadata": {
        "id": "NLNrCqSJt_2m",
        "colab_type": "code",
        "colab": {
          "base_uri": "https://localhost:8080/",
          "height": 34
        },
        "outputId": "8aebff77-eef0-4e4a-d23b-607d6ef142d9"
      },
      "source": [
        "model2.score(x_test0,y_test0) "
      ],
      "execution_count": 82,
      "outputs": [
        {
          "output_type": "execute_result",
          "data": {
            "text/plain": [
              "0.7001614205004035"
            ]
          },
          "metadata": {
            "tags": []
          },
          "execution_count": 82
        }
      ]
    },
    {
      "cell_type": "markdown",
      "metadata": {
        "id": "9AsdyUb_wY85",
        "colab_type": "text"
      },
      "source": [
        "##Confusion Matrix"
      ]
    },
    {
      "cell_type": "code",
      "metadata": {
        "id": "bq3LcDHMt_2r",
        "colab_type": "code",
        "colab": {
          "base_uri": "https://localhost:8080/",
          "height": 51
        },
        "outputId": "feae006c-b82e-46e2-d31c-2277c72e7cf1"
      },
      "source": [
        "confusion_matrix(y_test0, y_pred0)"
      ],
      "execution_count": 83,
      "outputs": [
        {
          "output_type": "execute_result",
          "data": {
            "text/plain": [
              "array([[1403,  503],\n",
              "       [ 240,  332]])"
            ]
          },
          "metadata": {
            "tags": []
          },
          "execution_count": 83
        }
      ]
    },
    {
      "cell_type": "markdown",
      "metadata": {
        "id": "pJcFTKLQ7vFa",
        "colab_type": "text"
      },
      "source": [
        "##Accuracy"
      ]
    },
    {
      "cell_type": "code",
      "metadata": {
        "id": "eutL8i8q7sXe",
        "colab_type": "code",
        "colab": {
          "base_uri": "https://localhost:8080/",
          "height": 34
        },
        "outputId": "266a20a4-c92e-4825-9245-e07750ece282"
      },
      "source": [
        "print(\"Accuracy:\",metrics.accuracy_score(y_test0, y_pred0))"
      ],
      "execution_count": 84,
      "outputs": [
        {
          "output_type": "stream",
          "text": [
            "Accuracy: 0.7001614205004035\n"
          ],
          "name": "stdout"
        }
      ]
    },
    {
      "cell_type": "markdown",
      "metadata": {
        "id": "vDnjithdzCZY",
        "colab_type": "text"
      },
      "source": [
        "##Classification Report"
      ]
    },
    {
      "cell_type": "code",
      "metadata": {
        "id": "LXx3s-dZt_2y",
        "colab_type": "code",
        "colab": {
          "base_uri": "https://localhost:8080/",
          "height": 170
        },
        "outputId": "c0744301-0b50-46ed-b1ca-416865aa41cb"
      },
      "source": [
        "from sklearn.metrics import classification_report\n",
        "print(classification_report(y_test0, y_pred0))"
      ],
      "execution_count": 85,
      "outputs": [
        {
          "output_type": "stream",
          "text": [
            "              precision    recall  f1-score   support\n",
            "\n",
            "           0       0.85      0.74      0.79      1906\n",
            "           1       0.40      0.58      0.47       572\n",
            "\n",
            "    accuracy                           0.70      2478\n",
            "   macro avg       0.63      0.66      0.63      2478\n",
            "weighted avg       0.75      0.70      0.72      2478\n",
            "\n"
          ],
          "name": "stdout"
        }
      ]
    },
    {
      "cell_type": "markdown",
      "metadata": {
        "id": "acvmUYc9wi1F",
        "colab_type": "text"
      },
      "source": [
        "##ROC curve"
      ]
    },
    {
      "cell_type": "code",
      "metadata": {
        "id": "BstxkdVut_22",
        "colab_type": "code",
        "colab": {
          "base_uri": "https://localhost:8080/",
          "height": 295
        },
        "outputId": "963c0eab-ac44-41cf-c4f1-bbde4e71791b"
      },
      "source": [
        "from sklearn.metrics import roc_curve,roc_auc_score,auc\n",
        "preds=model2.predict_proba(x_test0)[:,1]\n",
        "fpr,tpr,thershold=roc_curve(y_test0,preds,drop_intermediate=False)\n",
        "roc_auc=auc(fpr,tpr)\n",
        "plt.plot(fpr,tpr,'r',label='AUC=%0.2f'% roc_auc)\n",
        "plt.plot([0,1],[0,1],color='blue',lw=2,linestyle='--')\n",
        "plt.legend(loc='lower right')\n",
        "plt.xlabel('fpr')\n",
        "plt.ylabel('tpr')\n",
        "plt.title('roc curve')\n",
        "plt.show()"
      ],
      "execution_count": 86,
      "outputs": [
        {
          "output_type": "display_data",
          "data": {
            "image/png": "[encoded data removed]",
            "text/plain": [
              "<Figure size 432x288 with 1 Axes>"
            ]
          },
          "metadata": {
            "tags": [],
            "needs_background": "light"
          }
        }
      ]
    },
    {
      "cell_type": "markdown",
      "metadata": {
        "id": "5eoT2RecwlQ8",
        "colab_type": "text"
      },
      "source": [
        "##Feature Importance"
      ]
    },
    {
      "cell_type": "markdown",
      "metadata": {
        "id": "1Cb8Us3-Nei6",
        "colab_type": "text"
      },
      "source": [
        "#The important features for this random forest classification are:\n",
        "1.  job \n",
        "2. marital\n",
        "3. education \n",
        "4. targeted \n",
        "5. default\n",
        "6. housing\n",
        "7. loan\n",
        "8. contact\n",
        "9. poutcome\n",
        "10. campaign"
      ]
    },
    {
      "cell_type": "markdown",
      "metadata": {
        "id": "m49UrOSOwtEb",
        "colab_type": "text"
      },
      "source": [
        "##**Random Forest Classifier**"
      ]
    },
    {
      "cell_type": "markdown",
      "metadata": {
        "id": "2budvAaPwzwj",
        "colab_type": "text"
      },
      "source": [
        "##Train-Test Split"
      ]
    },
    {
      "cell_type": "code",
      "metadata": {
        "id": "oEBsbkqRt_3Q",
        "colab_type": "code",
        "colab": {}
      },
      "source": [
        "x_train1 , x_test1 , y_train1 , y_test1 = train_test_split(X,Y, test_size = 0.3, random_state = 100)"
      ],
      "execution_count": 87,
      "outputs": []
    },
    {
      "cell_type": "code",
      "metadata": {
        "id": "V2OtQ1-Jt_3T",
        "colab_type": "code",
        "colab": {}
      },
      "source": [
        "from sklearn.ensemble import RandomForestClassifier\n"
      ],
      "execution_count": 88,
      "outputs": []
    },
    {
      "cell_type": "code",
      "metadata": {
        "id": "1rUBacsmt_3Z",
        "colab_type": "code",
        "colab": {}
      },
      "source": [
        "clf=RandomForestClassifier(n_estimators=50,max_depth=9)"
      ],
      "execution_count": 89,
      "outputs": []
    },
    {
      "cell_type": "markdown",
      "metadata": {
        "id": "Hlml8pwQzL-S",
        "colab_type": "text"
      },
      "source": [
        "##Cross Validation"
      ]
    },
    {
      "cell_type": "code",
      "metadata": {
        "id": "On_YZFkWt_3d",
        "colab_type": "code",
        "colab": {
          "base_uri": "https://localhost:8080/",
          "height": 34
        },
        "outputId": "086e6fd6-3eaa-4091-8b25-9f9a8376744a"
      },
      "source": [
        "cv_score= cross_val_score(clf,x_train1,y_train1, cv=8)\n",
        "np.mean(cv_score)"
      ],
      "execution_count": 90,
      "outputs": [
        {
          "output_type": "execute_result",
          "data": {
            "text/plain": [
              "0.8290371662394684"
            ]
          },
          "metadata": {
            "tags": []
          },
          "execution_count": 90
        }
      ]
    },
    {
      "cell_type": "code",
      "metadata": {
        "id": "00U9DxLmt_3h",
        "colab_type": "code",
        "colab": {
          "base_uri": "https://localhost:8080/",
          "height": 153
        },
        "outputId": "ea45cfd5-1c8b-4099-b37c-ea4b73d7d204"
      },
      "source": [
        "clf.fit(x_train1,y_train1)"
      ],
      "execution_count": 91,
      "outputs": [
        {
          "output_type": "execute_result",
          "data": {
            "text/plain": [
              "RandomForestClassifier(bootstrap=True, ccp_alpha=0.0, class_weight=None,\n",
              "                       criterion='gini', max_depth=9, max_features='auto',\n",
              "                       max_leaf_nodes=None, max_samples=None,\n",
              "                       min_impurity_decrease=0.0, min_impurity_split=None,\n",
              "                       min_samples_leaf=1, min_samples_split=2,\n",
              "                       min_weight_fraction_leaf=0.0, n_estimators=50,\n",
              "                       n_jobs=None, oob_score=False, random_state=None,\n",
              "                       verbose=0, warm_start=False)"
            ]
          },
          "metadata": {
            "tags": []
          },
          "execution_count": 91
        }
      ]
    },
    {
      "cell_type": "markdown",
      "metadata": {
        "id": "3WTGgOdqw50o",
        "colab_type": "text"
      },
      "source": [
        "##Prediction"
      ]
    },
    {
      "cell_type": "code",
      "metadata": {
        "id": "vnW4Ry8vt_3n",
        "colab_type": "code",
        "colab": {}
      },
      "source": [
        "y_pred1=clf.predict(x_test1)"
      ],
      "execution_count": 92,
      "outputs": []
    },
    {
      "cell_type": "code",
      "metadata": {
        "id": "Dp8O0NTEt_3r",
        "colab_type": "code",
        "colab": {}
      },
      "source": [
        "from sklearn import metrics"
      ],
      "execution_count": 93,
      "outputs": []
    },
    {
      "cell_type": "code",
      "metadata": {
        "id": "SpZjMe7y686l",
        "colab_type": "code",
        "colab": {
          "base_uri": "https://localhost:8080/",
          "height": 51
        },
        "outputId": "9d1a8af3-b1e9-4237-9d5e-d66f2a53ddd0"
      },
      "source": [
        "confusion_matrix(y_test1, y_pred1)"
      ],
      "execution_count": 94,
      "outputs": [
        {
          "output_type": "execute_result",
          "data": {
            "text/plain": [
              "array([[1736,  147],\n",
              "       [ 324,  271]])"
            ]
          },
          "metadata": {
            "tags": []
          },
          "execution_count": 94
        }
      ]
    },
    {
      "cell_type": "markdown",
      "metadata": {
        "id": "xFFVLxgyzQ0Z",
        "colab_type": "text"
      },
      "source": [
        "##Accuracy"
      ]
    },
    {
      "cell_type": "code",
      "metadata": {
        "id": "RSqHitd4t_3v",
        "colab_type": "code",
        "colab": {
          "base_uri": "https://localhost:8080/",
          "height": 34
        },
        "outputId": "a0747bce-6781-4a5a-8cdb-1ddcd20f7566"
      },
      "source": [
        "print(\"Accuracy:\",metrics.accuracy_score(y_test1, y_pred1))"
      ],
      "execution_count": 95,
      "outputs": [
        {
          "output_type": "stream",
          "text": [
            "Accuracy: 0.8099273607748184\n"
          ],
          "name": "stdout"
        }
      ]
    },
    {
      "cell_type": "markdown",
      "metadata": {
        "id": "Gdv00yCZzUmN",
        "colab_type": "text"
      },
      "source": [
        "##Classification Report"
      ]
    },
    {
      "cell_type": "code",
      "metadata": {
        "id": "WmehHyCTt_3y",
        "colab_type": "code",
        "colab": {
          "base_uri": "https://localhost:8080/",
          "height": 170
        },
        "outputId": "765467d7-5774-4c94-b2c9-d6c12b08b161"
      },
      "source": [
        "from sklearn.metrics import classification_report\n",
        "print(classification_report(y_test1, y_pred1))"
      ],
      "execution_count": 96,
      "outputs": [
        {
          "output_type": "stream",
          "text": [
            "              precision    recall  f1-score   support\n",
            "\n",
            "           0       0.84      0.92      0.88      1883\n",
            "           1       0.65      0.46      0.54       595\n",
            "\n",
            "    accuracy                           0.81      2478\n",
            "   macro avg       0.75      0.69      0.71      2478\n",
            "weighted avg       0.80      0.81      0.80      2478\n",
            "\n"
          ],
          "name": "stdout"
        }
      ]
    },
    {
      "cell_type": "markdown",
      "metadata": {
        "id": "XBSgS6FIxAMD",
        "colab_type": "text"
      },
      "source": [
        "##ROC Curve"
      ]
    },
    {
      "cell_type": "code",
      "metadata": {
        "id": "dlDBJILHt_34",
        "colab_type": "code",
        "colab": {
          "base_uri": "https://localhost:8080/",
          "height": 295
        },
        "outputId": "8513c6e8-b01d-457b-d760-af0baddcb8eb"
      },
      "source": [
        "from sklearn.metrics import roc_curve,roc_auc_score,auc\n",
        "preds=clf.predict_proba(x_test1)[:,1]\n",
        "fpr,tpr,thershold=roc_curve(y_test1,preds,drop_intermediate=False)\n",
        "roc_auc=auc(fpr,tpr)\n",
        "plt.plot(fpr,tpr,'r',label='AUC=%0.2f'% roc_auc)\n",
        "plt.plot([0,1],[0,1],color='blue',lw=2,linestyle='--')\n",
        "plt.legend(loc='lower right')\n",
        "plt.xlabel('fpr')\n",
        "plt.ylabel('tpr')\n",
        "plt.title('roc curve')\n",
        "plt.show()"
      ],
      "execution_count": 97,
      "outputs": [
        {
          "output_type": "display_data",
          "data": {
            "image/png": "[encoded data removed]",
            "text/plain": [
              "<Figure size 432x288 with 1 Axes>"
            ]
          },
          "metadata": {
            "tags": [],
            "needs_background": "light"
          }
        }
      ]
    },
    {
      "cell_type": "code",
      "metadata": {
        "id": "f_YfPQa-AbtB",
        "colab_type": "code",
        "colab": {}
      },
      "source": [
        "from sklearn.metrics import roc_auc_score"
      ],
      "execution_count": 98,
      "outputs": []
    },
    {
      "cell_type": "code",
      "metadata": {
        "id": "Oc_bI83HAetN",
        "colab_type": "code",
        "colab": {
          "base_uri": "https://localhost:8080/",
          "height": 34
        },
        "outputId": "952d2f27-0928-4f76-aaa5-1d8a02efd318"
      },
      "source": [
        "roc_auc_score(y_test,y_pred1)"
      ],
      "execution_count": 99,
      "outputs": [
        {
          "output_type": "execute_result",
          "data": {
            "text/plain": [
              "0.6886976351879042"
            ]
          },
          "metadata": {
            "tags": []
          },
          "execution_count": 99
        }
      ]
    },
    {
      "cell_type": "code",
      "metadata": {
        "id": "c3vu38QlAnwT",
        "colab_type": "code",
        "colab": {
          "base_uri": "https://localhost:8080/",
          "height": 221
        },
        "outputId": "e807a302-b6a3-4c76-e768-a4b99c502893"
      },
      "source": [
        "from sklearn.feature_selection import RFE\n",
        "from sklearn.preprocessing import MinMaxScaler\n",
        "scaler = MinMaxScaler()\n",
        "rfn = RFE(clf, 5)\n",
        "rfn.fit(x_train1,y_train1)"
      ],
      "execution_count": 100,
      "outputs": [
        {
          "output_type": "execute_result",
          "data": {
            "text/plain": [
              "RFE(estimator=RandomForestClassifier(bootstrap=True, ccp_alpha=0.0,\n",
              "                                     class_weight=None, criterion='gini',\n",
              "                                     max_depth=9, max_features='auto',\n",
              "                                     max_leaf_nodes=None, max_samples=None,\n",
              "                                     min_impurity_decrease=0.0,\n",
              "                                     min_impurity_split=None,\n",
              "                                     min_samples_leaf=1, min_samples_split=2,\n",
              "                                     min_weight_fraction_leaf=0.0,\n",
              "                                     n_estimators=50, n_jobs=None,\n",
              "                                     oob_score=False, random_state=None,\n",
              "                                     verbose=0, warm_start=False),\n",
              "    n_features_to_select=5, step=1, verbose=0)"
            ]
          },
          "metadata": {
            "tags": []
          },
          "execution_count": 100
        }
      ]
    },
    {
      "cell_type": "code",
      "metadata": {
        "id": "m1zzwOSUA8t9",
        "colab_type": "code",
        "colab": {
          "base_uri": "https://localhost:8080/",
          "height": 187
        },
        "outputId": "49aea236-5eb0-418e-946c-f9ba9bda72d3"
      },
      "source": [
        "list(zip(x_train1.columns,rfe.support_,rfe.ranking_))"
      ],
      "execution_count": 101,
      "outputs": [
        {
          "output_type": "execute_result",
          "data": {
            "text/plain": [
              "[('job', True, 1),\n",
              " ('marital', True, 1),\n",
              " ('education', True, 1),\n",
              " ('targeted', True, 1),\n",
              " ('default', True, 1),\n",
              " ('housing', True, 1),\n",
              " ('loan', True, 1),\n",
              " ('contact', True, 1),\n",
              " ('poutcome', False, 3),\n",
              " ('campaign', True, 1)]"
            ]
          },
          "metadata": {
            "tags": []
          },
          "execution_count": 101
        }
      ]
    },
    {
      "cell_type": "code",
      "metadata": {
        "id": "hWjUaCBBCE_e",
        "colab_type": "code",
        "colab": {
          "base_uri": "https://localhost:8080/",
          "height": 34
        },
        "outputId": "2ba108de-dc9d-4e7b-82d8-f49165cce860"
      },
      "source": [
        "x_train1.columns[rfn.support_]"
      ],
      "execution_count": 102,
      "outputs": [
        {
          "output_type": "execute_result",
          "data": {
            "text/plain": [
              "Index(['job', 'education', 'housing', 'poutcome', 'campaign'], dtype='object')"
            ]
          },
          "metadata": {
            "tags": []
          },
          "execution_count": 102
        }
      ]
    },
    {
      "cell_type": "code",
      "metadata": {
        "id": "on9CaMyICwGs",
        "colab_type": "code",
        "colab": {}
      },
      "source": [
        "imp = x_train1.columns[rfn.support_]"
      ],
      "execution_count": 103,
      "outputs": []
    },
    {
      "cell_type": "code",
      "metadata": {
        "id": "5KOZDCGYC77x",
        "colab_type": "code",
        "colab": {
          "base_uri": "https://localhost:8080/",
          "height": 153
        },
        "outputId": "139245ba-bc4f-4837-85d4-26bd5fb7f884"
      },
      "source": [
        "clf.fit(x_train1[imp],y_train)"
      ],
      "execution_count": 104,
      "outputs": [
        {
          "output_type": "execute_result",
          "data": {
            "text/plain": [
              "RandomForestClassifier(bootstrap=True, ccp_alpha=0.0, class_weight=None,\n",
              "                       criterion='gini', max_depth=9, max_features='auto',\n",
              "                       max_leaf_nodes=None, max_samples=None,\n",
              "                       min_impurity_decrease=0.0, min_impurity_split=None,\n",
              "                       min_samples_leaf=1, min_samples_split=2,\n",
              "                       min_weight_fraction_leaf=0.0, n_estimators=50,\n",
              "                       n_jobs=None, oob_score=False, random_state=None,\n",
              "                       verbose=0, warm_start=False)"
            ]
          },
          "metadata": {
            "tags": []
          },
          "execution_count": 104
        }
      ]
    },
    {
      "cell_type": "code",
      "metadata": {
        "id": "G8ERgJYMDVbh",
        "colab_type": "code",
        "colab": {}
      },
      "source": [
        "y_predn = clf.predict(x_test[imp])"
      ],
      "execution_count": 105,
      "outputs": []
    },
    {
      "cell_type": "code",
      "metadata": {
        "id": "TQ3KKqlUDfMS",
        "colab_type": "code",
        "colab": {
          "base_uri": "https://localhost:8080/",
          "height": 51
        },
        "outputId": "677770a9-2df7-4e11-df39-0e3a8e97a864"
      },
      "source": [
        "confusion_matrix(y_predn,y_test)"
      ],
      "execution_count": 106,
      "outputs": [
        {
          "output_type": "execute_result",
          "data": {
            "text/plain": [
              "array([[1723,  324],\n",
              "       [ 160,  271]])"
            ]
          },
          "metadata": {
            "tags": []
          },
          "execution_count": 106
        }
      ]
    },
    {
      "cell_type": "markdown",
      "metadata": {
        "id": "e0AbCGTfD4SA",
        "colab_type": "text"
      },
      "source": [
        "#The important features for this random forest classification are:\n",
        "1.  job \n",
        "2. education \n",
        "3. housing \n",
        "4. poutcome \n",
        "5. campaign"
      ]
    },
    {
      "cell_type": "markdown",
      "metadata": {
        "id": "y0sXZApvz6lD",
        "colab_type": "text"
      },
      "source": [
        "#**Comparison**"
      ]
    },
    {
      "cell_type": "markdown",
      "metadata": {
        "id": "IAVorIRx7Zlw",
        "colab_type": "text"
      },
      "source": [
        "##Logistic Regression's metrics"
      ]
    },
    {
      "cell_type": "code",
      "metadata": {
        "id": "0RASNq4l7W8q",
        "colab_type": "code",
        "colab": {
          "base_uri": "https://localhost:8080/",
          "height": 51
        },
        "outputId": "7e1bec4d-2ab7-4d75-f82d-0b4ae7d6ee20"
      },
      "source": [
        "confusion_matrix(y_test0, y_pred0)"
      ],
      "execution_count": 107,
      "outputs": [
        {
          "output_type": "execute_result",
          "data": {
            "text/plain": [
              "array([[1403,  503],\n",
              "       [ 240,  332]])"
            ]
          },
          "metadata": {
            "tags": []
          },
          "execution_count": 107
        }
      ]
    },
    {
      "cell_type": "code",
      "metadata": {
        "id": "zorgk0kPPCl4",
        "colab_type": "code",
        "colab": {
          "base_uri": "https://localhost:8080/",
          "height": 34
        },
        "outputId": "6e850356-557b-4735-c6e0-07bebb4934df"
      },
      "source": [
        "f1_score(y_pred0,y_test0)"
      ],
      "execution_count": 108,
      "outputs": [
        {
          "output_type": "execute_result",
          "data": {
            "text/plain": [
              "0.47192608386638235"
            ]
          },
          "metadata": {
            "tags": []
          },
          "execution_count": 108
        }
      ]
    },
    {
      "cell_type": "code",
      "metadata": {
        "id": "gHW0mh0-7_91",
        "colab_type": "code",
        "colab": {
          "base_uri": "https://localhost:8080/",
          "height": 34
        },
        "outputId": "a98ff4a6-c9c8-4dc4-eb87-01a0109b3c88"
      },
      "source": [
        "print(\"Accuracy:\",metrics.accuracy_score(y_test0, y_pred0))"
      ],
      "execution_count": 109,
      "outputs": [
        {
          "output_type": "stream",
          "text": [
            "Accuracy: 0.7001614205004035\n"
          ],
          "name": "stdout"
        }
      ]
    },
    {
      "cell_type": "code",
      "metadata": {
        "id": "JSbhcJg_-ZzO",
        "colab_type": "code",
        "colab": {
          "base_uri": "https://localhost:8080/",
          "height": 170
        },
        "outputId": "df3c2b1d-d9a1-442e-9d76-2219e983bb40"
      },
      "source": [
        "from sklearn.metrics import classification_report\n",
        "print(classification_report(y_test0, y_pred0))"
      ],
      "execution_count": 110,
      "outputs": [
        {
          "output_type": "stream",
          "text": [
            "              precision    recall  f1-score   support\n",
            "\n",
            "           0       0.85      0.74      0.79      1906\n",
            "           1       0.40      0.58      0.47       572\n",
            "\n",
            "    accuracy                           0.70      2478\n",
            "   macro avg       0.63      0.66      0.63      2478\n",
            "weighted avg       0.75      0.70      0.72      2478\n",
            "\n"
          ],
          "name": "stdout"
        }
      ]
    },
    {
      "cell_type": "markdown",
      "metadata": {
        "id": "v_ogEikBOCSE",
        "colab_type": "text"
      },
      "source": [
        "#The important features for this random forest classification are:\n",
        "1.  job \n",
        "2. marital\n",
        "3. education \n",
        "4. targeted \n",
        "5. default\n",
        "6. housing\n",
        "7. loan\n",
        "8. contact\n",
        "9. poutcome\n",
        "10. campaign"
      ]
    },
    {
      "cell_type": "markdown",
      "metadata": {
        "id": "slVM67zR7Nk8",
        "colab_type": "text"
      },
      "source": [
        "##Random Forest's metrics"
      ]
    },
    {
      "cell_type": "code",
      "metadata": {
        "id": "DrDwpm7d7MX6",
        "colab_type": "code",
        "colab": {
          "base_uri": "https://localhost:8080/",
          "height": 51
        },
        "outputId": "2aea767d-a751-48c6-8725-13f6d5f6b137"
      },
      "source": [
        "confusion_matrix(y_test1, y_pred1)"
      ],
      "execution_count": 111,
      "outputs": [
        {
          "output_type": "execute_result",
          "data": {
            "text/plain": [
              "array([[1736,  147],\n",
              "       [ 324,  271]])"
            ]
          },
          "metadata": {
            "tags": []
          },
          "execution_count": 111
        }
      ]
    },
    {
      "cell_type": "code",
      "metadata": {
        "id": "PQwpD9rz8EQ0",
        "colab_type": "code",
        "colab": {
          "base_uri": "https://localhost:8080/",
          "height": 34
        },
        "outputId": "777628da-6763-4885-8f2d-5806d2b331db"
      },
      "source": [
        "print(\"Accuracy:\",metrics.accuracy_score(y_test1, y_pred1))"
      ],
      "execution_count": 112,
      "outputs": [
        {
          "output_type": "stream",
          "text": [
            "Accuracy: 0.8099273607748184\n"
          ],
          "name": "stdout"
        }
      ]
    },
    {
      "cell_type": "code",
      "metadata": {
        "id": "wOAPteyJ-XXR",
        "colab_type": "code",
        "colab": {
          "base_uri": "https://localhost:8080/",
          "height": 170
        },
        "outputId": "7f3c81eb-bb9f-489a-c583-9204a8993c7f"
      },
      "source": [
        "from sklearn.metrics import classification_report\n",
        "print(classification_report(y_test1, y_pred1))"
      ],
      "execution_count": 113,
      "outputs": [
        {
          "output_type": "stream",
          "text": [
            "              precision    recall  f1-score   support\n",
            "\n",
            "           0       0.84      0.92      0.88      1883\n",
            "           1       0.65      0.46      0.54       595\n",
            "\n",
            "    accuracy                           0.81      2478\n",
            "   macro avg       0.75      0.69      0.71      2478\n",
            "weighted avg       0.80      0.81      0.80      2478\n",
            "\n"
          ],
          "name": "stdout"
        }
      ]
    },
    {
      "cell_type": "code",
      "metadata": {
        "id": "ia8Q9ae0ErUk",
        "colab_type": "code",
        "colab": {
          "base_uri": "https://localhost:8080/",
          "height": 34
        },
        "outputId": "38c07575-88f2-48b6-8ceb-7e29d9c714e4"
      },
      "source": [
        "f1_score(y_predn,y_test)"
      ],
      "execution_count": 114,
      "outputs": [
        {
          "output_type": "execute_result",
          "data": {
            "text/plain": [
              "0.5282651072124757"
            ]
          },
          "metadata": {
            "tags": []
          },
          "execution_count": 114
        }
      ]
    },
    {
      "cell_type": "markdown",
      "metadata": {
        "id": "WUQZam__EhO8",
        "colab_type": "text"
      },
      "source": [
        "#The important features for this random forest classification are:\n",
        "1.  job \n",
        "2. education \n",
        "3. housing \n",
        "4. poutcome \n",
        "5. campaign"
      ]
    },
    {
      "cell_type": "markdown",
      "metadata": {
        "id": "TphUikFKOOAZ",
        "colab_type": "text"
      },
      "source": [
        "After comparing the important features of both **Logistic regression** and **Random Forest**. I found that the number of important features are more in **Logistic Regression** than **Random Forest**. Although all the important features of **Random Forest** are the subset of features in **Logistic Regression**."
      ]
    },
    {
      "cell_type": "markdown",
      "metadata": {
        "id": "Eeq3faAwUyRX",
        "colab_type": "text"
      },
      "source": [
        "#Conclusion"
      ]
    },
    {
      "cell_type": "markdown",
      "metadata": {
        "id": "UCVZtqMZW_u0",
        "colab_type": "text"
      },
      "source": [
        "After analyzing all the metrics of both the models. I found that **Random Forest** is more optimal than **Logistic Regression**."
      ]
    }
  ]
}